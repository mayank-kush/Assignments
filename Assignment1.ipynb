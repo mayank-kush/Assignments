{
 "cells": [
  {
   "cell_type": "markdown",
   "id": "4351eaef",
   "metadata": {},
   "source": [
    "Q1. Create one variable containing following type of data:\n",
    "(i) string\n",
    "(ii) list\n",
    "(iii) float\n",
    "(iv) tuple"
   ]
  },
  {
   "cell_type": "code",
   "execution_count": 1,
   "id": "914cbd67",
   "metadata": {},
   "outputs": [],
   "source": [
    "a=\"hello\"\n",
    "b=[1,2,3,4,5,6,7]\n",
    "c=9.41\n",
    "d=(28,29)"
   ]
  },
  {
   "cell_type": "markdown",
   "id": "d71bcd0d",
   "metadata": {},
   "source": [
    "Q2. Given are some following variables containing data:\n",
    "(i) var1 = ‘ ‘\n",
    "(ii) var2 = ‘[ DS , ML , Python]’\n",
    "(iii) var3 = [ ‘DS’ , ’ML’ , ‘Python’ ]\n",
    "(iv) var4 = 1.\n",
    "What will be the data type of the above given variable."
   ]
  },
  {
   "cell_type": "code",
   "execution_count": 3,
   "id": "2a6c8b3c",
   "metadata": {},
   "outputs": [
    {
     "name": "stdout",
     "output_type": "stream",
     "text": [
      "<class 'str'>\n",
      "<class 'str'>\n",
      "<class 'list'>\n",
      "<class 'int'>\n"
     ]
    }
   ],
   "source": [
    "var1 = ' '\n",
    "var2 = '[ DS , ML , Python]'\n",
    "var3 = [ 'DS' , 'ML' , 'Python' ]\n",
    "var4 = 1\n",
    "print(type(var1))\n",
    "print(type(var2))\n",
    "print(type(var3))\n",
    "print(type(var4))"
   ]
  },
  {
   "cell_type": "markdown",
   "id": "d747d300",
   "metadata": {},
   "source": [
    "Q3. Explain the use of the following operators using an example:\n",
    "(i) /\n",
    "(ii) %\n",
    "(iii) //\n",
    "(iv) **"
   ]
  },
  {
   "cell_type": "code",
   "execution_count": 5,
   "id": "178977d1",
   "metadata": {},
   "outputs": [
    {
     "name": "stdout",
     "output_type": "stream",
     "text": [
      "2.0\n",
      "0\n",
      "1.0\n",
      "100000\n"
     ]
    }
   ],
   "source": [
    "# / (Division)\n",
    "a=10\n",
    "b=5\n",
    "c=a/b\n",
    "print(c)\n",
    "\n",
    "# %(Mod) used to find remainder after division\n",
    "\n",
    "d=a%b\n",
    "print(d)\n",
    "\n",
    "# //(floor division) gives the absolute value of the division\n",
    "f=5.2\n",
    "g=4.5\n",
    "e=f//g\n",
    "print(e)\n",
    "\n",
    "# **(exponent)\n",
    "\n",
    "h=a**b\n",
    "print(h)"
   ]
  },
  {
   "cell_type": "markdown",
   "id": "6178da06",
   "metadata": {},
   "source": [
    "Q4. Create a list of length 10 of your choice containing multiple types of data. Using for loop print the\n",
    "element and its data type.\n"
   ]
  },
  {
   "cell_type": "code",
   "execution_count": 7,
   "id": "56992484",
   "metadata": {},
   "outputs": [
    {
     "name": "stdout",
     "output_type": "stream",
     "text": [
      "1\n",
      "<class 'int'>\n",
      "2\n",
      "<class 'int'>\n",
      "3\n",
      "<class 'int'>\n",
      "4\n",
      "<class 'int'>\n",
      "5\n",
      "<class 'int'>\n",
      "hi\n",
      "<class 'str'>\n",
      "5.6\n",
      "<class 'float'>\n",
      "[4, 3, 2]\n",
      "<class 'list'>\n",
      "(6, 7)\n",
      "<class 'tuple'>\n",
      "hello\n",
      "<class 'str'>\n"
     ]
    }
   ],
   "source": [
    "a=[1,2,3,4,5,'hi',5.6,[4,3,2],(6,7),'hello']\n",
    "for i in a:\n",
    "    print(i)\n",
    "    print(type(i))"
   ]
  },
  {
   "cell_type": "markdown",
   "id": "abdccacb",
   "metadata": {},
   "source": [
    "Q5. Using a while loop, verify if the number A is purely divisible by number B and if so then how many\n",
    "times it can be divisible."
   ]
  },
  {
   "cell_type": "code",
   "execution_count": 12,
   "id": "9c7fe201",
   "metadata": {},
   "outputs": [
    {
     "name": "stdout",
     "output_type": "stream",
     "text": [
      "10\n",
      "5\n",
      "Yes A is purly divisible by B\n",
      "2\n"
     ]
    }
   ],
   "source": [
    "A=int(input())\n",
    "B=int(input())\n",
    "count=0\n",
    "while(A>0):\n",
    "    if(A%B==0):\n",
    "        A-=B\n",
    "        count+=1\n",
    "if(A%B==0):\n",
    "    print(\"Yes A is purly divisible by B\")        \n",
    "print(count)\n",
    "    "
   ]
  },
  {
   "cell_type": "markdown",
   "id": "e0d1b7ca",
   "metadata": {},
   "source": [
    "Q6. Create a list containing 25 int type data. Using for loop and if-else condition print if the element is\n",
    "divisible by 3 or not."
   ]
  },
  {
   "cell_type": "code",
   "execution_count": 18,
   "id": "422059a8",
   "metadata": {},
   "outputs": [
    {
     "name": "stdout",
     "output_type": "stream",
     "text": [
      "1\n",
      "No\n",
      "2\n",
      "No\n",
      "3\n",
      "Yes\n",
      "4\n",
      "No\n",
      "5\n",
      "No\n",
      "6\n",
      "Yes\n",
      "7\n",
      "No\n",
      "8\n",
      "No\n",
      "9\n",
      "Yes\n",
      "10\n",
      "No\n",
      "11\n",
      "No\n",
      "12\n",
      "Yes\n",
      "13\n",
      "No\n",
      "14\n",
      "No\n",
      "15\n",
      "Yes\n",
      "16\n",
      "No\n",
      "17\n",
      "No\n",
      "18\n",
      "Yes\n",
      "19\n",
      "No\n",
      "20\n",
      "No\n",
      "21\n",
      "Yes\n",
      "22\n",
      "No\n",
      "23\n",
      "No\n",
      "24\n",
      "Yes\n",
      "25\n",
      "No\n"
     ]
    }
   ],
   "source": [
    "A=[1,2,3,4,5,6,7,8,9,10,11,12,13,14,15,16,17,18,19,20,21,22,23,24,25]\n",
    "for i in A:\n",
    "    print(i)\n",
    "    if(i%3==0):\n",
    "        print(\"Yes\")\n",
    "    else:\n",
    "        print(\"No\")"
   ]
  },
  {
   "cell_type": "markdown",
   "id": "f3f5adf9",
   "metadata": {},
   "source": [
    "Q7. What do you understand about mutable and immutable data types? Give examples for both showing\n",
    "this property."
   ]
  },
  {
   "cell_type": "code",
   "execution_count": 19,
   "id": "bce10959",
   "metadata": {},
   "outputs": [
    {
     "name": "stdout",
     "output_type": "stream",
     "text": [
      "[1, 2, 3, 4]\n",
      "[1, 2, 3, 4, 5]\n"
     ]
    }
   ],
   "source": [
    "# Mutable objects are those whose individual elements can be changed or appended for example lists are mutable i.e their elements can be changed\n",
    "A=[1,2,3,4]\n",
    "print(A)\n",
    "A.append(5)\n",
    "print(A)\n",
    "# as you can see we added an element at the end of the list\n"
   ]
  },
  {
   "cell_type": "code",
   "execution_count": 20,
   "id": "bb3574dc",
   "metadata": {},
   "outputs": [
    {
     "name": "stdout",
     "output_type": "stream",
     "text": [
      "hello\n"
     ]
    },
    {
     "ename": "TypeError",
     "evalue": "'str' object does not support item assignment",
     "output_type": "error",
     "traceback": [
      "\u001b[1;31m---------------------------------------------------------------------------\u001b[0m",
      "\u001b[1;31mTypeError\u001b[0m                                 Traceback (most recent call last)",
      "\u001b[1;32m~\\AppData\\Local\\Temp\\ipykernel_12324\\2112559922.py\u001b[0m in \u001b[0;36m<module>\u001b[1;34m\u001b[0m\n\u001b[0;32m      2\u001b[0m \u001b[0mA\u001b[0m\u001b[1;33m=\u001b[0m\u001b[1;34m\"hello\"\u001b[0m\u001b[1;33m\u001b[0m\u001b[1;33m\u001b[0m\u001b[0m\n\u001b[0;32m      3\u001b[0m \u001b[0mprint\u001b[0m\u001b[1;33m(\u001b[0m\u001b[0mA\u001b[0m\u001b[1;33m)\u001b[0m\u001b[1;33m\u001b[0m\u001b[1;33m\u001b[0m\u001b[0m\n\u001b[1;32m----> 4\u001b[1;33m \u001b[0mA\u001b[0m\u001b[1;33m[\u001b[0m\u001b[1;36m2\u001b[0m\u001b[1;33m]\u001b[0m\u001b[1;33m=\u001b[0m\u001b[1;34m'a'\u001b[0m\u001b[1;33m\u001b[0m\u001b[1;33m\u001b[0m\u001b[0m\n\u001b[0m\u001b[0;32m      5\u001b[0m \u001b[0mprint\u001b[0m\u001b[1;33m(\u001b[0m\u001b[0mA\u001b[0m\u001b[1;33m)\u001b[0m\u001b[1;33m\u001b[0m\u001b[1;33m\u001b[0m\u001b[0m\n",
      "\u001b[1;31mTypeError\u001b[0m: 'str' object does not support item assignment"
     ]
    }
   ],
   "source": [
    "#Imutable objects are those which once created, their elements cannot be changed, for example in a string , we cannot change a single character of the string , it can changed entierly but a single element cannot be changed.\n",
    "A=\"hello\"\n",
    "print(A)\n",
    "A[2]='a'\n",
    "print(A)\n",
    "# see it will show an error."
   ]
  },
  {
   "cell_type": "code",
   "execution_count": null,
   "id": "e6ffd40e",
   "metadata": {},
   "outputs": [],
   "source": []
  }
 ],
 "metadata": {
  "kernelspec": {
   "display_name": "Python 3 (ipykernel)",
   "language": "python",
   "name": "python3"
  },
  "language_info": {
   "codemirror_mode": {
    "name": "ipython",
    "version": 3
   },
   "file_extension": ".py",
   "mimetype": "text/x-python",
   "name": "python",
   "nbconvert_exporter": "python",
   "pygments_lexer": "ipython3",
   "version": "3.9.13"
  }
 },
 "nbformat": 4,
 "nbformat_minor": 5
}
