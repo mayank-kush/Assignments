{
 "cells": [
  {
   "cell_type": "markdown",
   "id": "25931d7e",
   "metadata": {},
   "source": [
    "Q1. What is multiprocessing in python? Why is it useful?"
   ]
  },
  {
   "cell_type": "markdown",
   "id": "cbfcebf8",
   "metadata": {},
   "source": [
    "Multiprocessing in Python refers to the capability of the Python language to create and manage multiple processes concurrently, allowing for true parallelism on multi-core processors. Unlike multithreading, which is limited by Python's Global Interpreter Lock (GIL) and cannot achieve true parallel execution of CPU-bound tasks, multiprocessing can execute tasks in separate processes, taking advantage of all available CPU cores."
   ]
  },
  {
   "cell_type": "markdown",
   "id": "8d915c49",
   "metadata": {},
   "source": [
    "Q2. What are the differences between multiprocessing and multithreading?"
   ]
  },
  {
   "cell_type": "markdown",
   "id": "77431633",
   "metadata": {},
   "source": [
    "Multiprocessing uses two or more CPUs to increase computing power, whereas multithreading uses a single process with multiple code segments to increase computing power."
   ]
  },
  {
   "cell_type": "markdown",
   "id": "3551392a",
   "metadata": {},
   "source": [
    "Q3. Write a python code to create a process using the multiprocessing module."
   ]
  },
  {
   "cell_type": "code",
   "execution_count": 2,
   "id": "cdfdf5c5",
   "metadata": {},
   "outputs": [
    {
     "name": "stdout",
     "output_type": "stream",
     "text": [
      "this is my main prog\n"
     ]
    }
   ],
   "source": [
    "import multiprocessing\n",
    "def test():\n",
    "    print(\"this is my multiprocessing prog\")\n",
    "\n",
    "if __name__ == '__main__':\n",
    "    m = multiprocessing.Process(target=test)\n",
    "    print(\"this is my main prog\")\n",
    "    m.start()\n",
    "    m.join()\n",
    "    "
   ]
  },
  {
   "cell_type": "markdown",
   "id": "776c7fbc",
   "metadata": {},
   "source": [
    "Q4. What is a multiprocessing pool in python? Why is it used?"
   ]
  },
  {
   "cell_type": "markdown",
   "id": "100b976d",
   "metadata": {},
   "source": [
    "A multiprocessing pool in Python refers to a collection of worker processes managed by the multiprocessing.Pool class. The pool provides a convenient way to distribute and parallelize tasks across multiple processes efficiently. It abstracts away the details of process creation and management, making it easier to take advantage of multi-core processors and achieve parallelism in Python."
   ]
  },
  {
   "cell_type": "markdown",
   "id": "569ba656",
   "metadata": {},
   "source": [
    "Q5. How can we create a pool of worker processes in python using the multiprocessing module?"
   ]
  },
  {
   "cell_type": "markdown",
   "id": "4b0720f3",
   "metadata": {},
   "source": [
    "Creating a pool of worker processes in Python using the multiprocessing module is straightforward. The multiprocessing.Pool class provides the functionality to manage and distribute tasks across multiple worker processes."
   ]
  },
  {
   "cell_type": "markdown",
   "id": "558a4ca0",
   "metadata": {},
   "source": [
    "Q6. Write a python program to create 4 processes, each process should print a different number using the\n",
    "multiprocessing module in python."
   ]
  },
  {
   "cell_type": "code",
   "execution_count": 3,
   "id": "7d80b455",
   "metadata": {},
   "outputs": [
    {
     "name": "stdout",
     "output_type": "stream",
     "text": [
      "All processes have finished.\n"
     ]
    }
   ],
   "source": [
    "import multiprocessing\n",
    "\n",
    "def print_number(number):\n",
    "    print(f\"Process {number}: {number}\")\n",
    "\n",
    "if __name__ == \"__main__\":\n",
    "    processes = []\n",
    "\n",
    "    for i in range(1, 5):\n",
    "        process = multiprocessing.Process(target=print_number, args=(i,))\n",
    "        processes.append(process)\n",
    "        process.start()\n",
    "\n",
    "    for process in processes:\n",
    "        process.join()\n",
    "\n",
    "    print(\"All processes have finished.\")\n"
   ]
  },
  {
   "cell_type": "code",
   "execution_count": null,
   "id": "5c62eae3",
   "metadata": {},
   "outputs": [],
   "source": []
  }
 ],
 "metadata": {
  "kernelspec": {
   "display_name": "Python 3 (ipykernel)",
   "language": "python",
   "name": "python3"
  },
  "language_info": {
   "codemirror_mode": {
    "name": "ipython",
    "version": 3
   },
   "file_extension": ".py",
   "mimetype": "text/x-python",
   "name": "python",
   "nbconvert_exporter": "python",
   "pygments_lexer": "ipython3",
   "version": "3.9.13"
  }
 },
 "nbformat": 4,
 "nbformat_minor": 5
}
