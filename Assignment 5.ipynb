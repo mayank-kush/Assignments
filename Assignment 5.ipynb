{
 "cells": [
  {
   "cell_type": "markdown",
   "id": "630052c2",
   "metadata": {},
   "source": [
    "Q1, Create a vehicle class with an init method having instance variables as name_of_vehicle, max_speed and average_of_vehicle."
   ]
  },
  {
   "cell_type": "code",
   "execution_count": 1,
   "id": "57bbc3b7",
   "metadata": {},
   "outputs": [],
   "source": [
    "class vehicle:\n",
    "    def __init__(self,name_of_vehicle, max_speed , average_of_vehicle):\n",
    "        self.name_of_vehicle=name_of_vehicle\n",
    "        self. max_speed= max_speed\n",
    "        self.average_of_vehicle=average_of_vehicle"
   ]
  },
  {
   "cell_type": "markdown",
   "id": "617b984c",
   "metadata": {},
   "source": [
    "Q2. Create a child class car from the vehicle class created in Que 1, which will inherit the vehicle class. Create a method named seating_capacity which takes capacity as an argument and returns the name of the vehicle and its seating capacity."
   ]
  },
  {
   "cell_type": "code",
   "execution_count": 5,
   "id": "452337a8",
   "metadata": {},
   "outputs": [],
   "source": [
    "class Car(vehicle):\n",
    "    def __init__(self, name_of_vehicle, max_speed, average_of_vehicle):\n",
    "        super().__init__(name_of_vehicle, max_speed, average_of_vehicle)\n",
    "\n",
    "    def seating_capacity(self, capacity):\n",
    "        return f\"{self.name_of_vehicle} - Seating Capacity: {capacity}\"\n",
    "    \n",
    "c=Car(\"toyota\",120,20)\n",
    "    "
   ]
  },
  {
   "cell_type": "code",
   "execution_count": 7,
   "id": "1385d4ab",
   "metadata": {},
   "outputs": [
    {
     "ename": "TypeError",
     "evalue": "'str' object is not callable",
     "output_type": "error",
     "traceback": [
      "\u001b[1;31m---------------------------------------------------------------------------\u001b[0m",
      "\u001b[1;31mTypeError\u001b[0m                                 Traceback (most recent call last)",
      "\u001b[1;32m~\\AppData\\Local\\Temp\\ipykernel_17024\\3710369733.py\u001b[0m in \u001b[0;36m<module>\u001b[1;34m\u001b[0m\n\u001b[1;32m----> 1\u001b[1;33m \u001b[0mprint\u001b[0m\u001b[1;33m(\u001b[0m\u001b[0mc\u001b[0m\u001b[1;33m.\u001b[0m\u001b[0mname_of_vehicle\u001b[0m\u001b[1;33m(\u001b[0m\u001b[1;33m)\u001b[0m\u001b[1;33m)\u001b[0m\u001b[1;33m\u001b[0m\u001b[1;33m\u001b[0m\u001b[0m\n\u001b[0m",
      "\u001b[1;31mTypeError\u001b[0m: 'str' object is not callable"
     ]
    }
   ],
   "source": [
    "print(c.name_of_vehicle())"
   ]
  },
  {
   "cell_type": "markdown",
   "id": "92822de5",
   "metadata": {},
   "source": [
    "Q3. What is multiple inheritance? Write a python code to demonstrate multiple inheritance."
   ]
  },
  {
   "cell_type": "markdown",
   "id": "db46fbb1",
   "metadata": {},
   "source": [
    "Ans: Multiple inheritance is a type of inheritance where there are multiple parent class and only one base class.\n"
   ]
  },
  {
   "cell_type": "code",
   "execution_count": 8,
   "id": "f940da3b",
   "metadata": {},
   "outputs": [],
   "source": [
    "class A:\n",
    "    def test_1(self):\n",
    "        print(\"class a\")\n",
    "        \n",
    "class B:\n",
    "    def test_2(self):\n",
    "        print(\"class b\")\n",
    "        \n",
    "class C(A,B):\n",
    "    pass"
   ]
  },
  {
   "cell_type": "code",
   "execution_count": 9,
   "id": "ba28c012",
   "metadata": {},
   "outputs": [],
   "source": [
    "obj_c=C()"
   ]
  },
  {
   "cell_type": "code",
   "execution_count": 10,
   "id": "7a538028",
   "metadata": {},
   "outputs": [
    {
     "name": "stdout",
     "output_type": "stream",
     "text": [
      "class a\n"
     ]
    }
   ],
   "source": [
    "obj_c.test_1()"
   ]
  },
  {
   "cell_type": "code",
   "execution_count": 11,
   "id": "18a4063c",
   "metadata": {},
   "outputs": [
    {
     "name": "stdout",
     "output_type": "stream",
     "text": [
      "class b\n"
     ]
    }
   ],
   "source": [
    "obj_c.test_2()"
   ]
  },
  {
   "cell_type": "markdown",
   "id": "247bb627",
   "metadata": {},
   "source": [
    "Q4. What are getter and setter in python? Create a class and create a getter and a setter method in this\n",
    "class."
   ]
  },
  {
   "cell_type": "markdown",
   "id": "f326b3ed",
   "metadata": {},
   "source": [
    "Ans: In Python, getters and setters are used to access and modify the attributes of a class in a controlled manner. They are also known as accessor and mutator methods, respectively. Getters allow you to retrieve the value of an attribute, while setters allow you to set or modify the value of an attribute while enforcing some constraints or validations."
   ]
  },
  {
   "cell_type": "code",
   "execution_count": 12,
   "id": "45857843",
   "metadata": {},
   "outputs": [
    {
     "name": "stdout",
     "output_type": "stream",
     "text": [
      "Attribute value: 10\n",
      "Attribute value cannot be negative. Setting to 0.\n",
      "Attribute value: 0\n"
     ]
    }
   ],
   "source": [
    "class MyClass:\n",
    "    def __init__(self):\n",
    "        self._my_attribute = None\n",
    "\n",
    "   \n",
    "    def get_my_attribute(self):\n",
    "        return self._my_attribute\n",
    "\n",
    "   \n",
    "    def set_my_attribute(self, value):\n",
    "        if value < 0:\n",
    "            print(\"Attribute value cannot be negative. Setting to 0.\")\n",
    "            self._my_attribute = 0\n",
    "        else:\n",
    "            self._my_attribute = value\n",
    "\n",
    "if __name__ == \"__main__\":\n",
    "    obj = MyClass()\n",
    "\n",
    "   \n",
    "    obj.set_my_attribute(10)\n",
    "    print(\"Attribute value:\", obj.get_my_attribute()) \n",
    "\n",
    "    \n",
    "    obj.set_my_attribute(-5) \n",
    "    print(\"Attribute value:\", obj.get_my_attribute())"
   ]
  },
  {
   "cell_type": "markdown",
   "id": "9b5468d9",
   "metadata": {},
   "source": [
    "Q5.What is method overriding in python? Write a python code to demonstrate method overriding."
   ]
  },
  {
   "cell_type": "markdown",
   "id": "2c31da30",
   "metadata": {},
   "source": [
    "Ans: Method overriding is a concept in object-oriented programming where a subclass provides a specific implementation for a method that is already defined in its superclass. When a method is overridden in the subclass, the subclass's version of the method is used instead of the superclass's version when the method is called on an object of the subclass."
   ]
  },
  {
   "cell_type": "code",
   "execution_count": 13,
   "id": "f00f4e0a",
   "metadata": {},
   "outputs": [
    {
     "name": "stdout",
     "output_type": "stream",
     "text": [
      "Generic animal sound\n",
      "Woof! Woof!\n"
     ]
    }
   ],
   "source": [
    "class Animal:\n",
    "    def make_sound(self):\n",
    "        print(\"Generic animal sound\")\n",
    "\n",
    "class Dog(Animal):\n",
    "    def make_sound(self):\n",
    "        print(\"Woof! Woof!\")\n",
    "animal = Animal()\n",
    "dog = Dog()\n",
    "animal.make_sound()  \n",
    "dog.make_sound()"
   ]
  },
  {
   "cell_type": "code",
   "execution_count": null,
   "id": "92ad919f",
   "metadata": {},
   "outputs": [],
   "source": []
  }
 ],
 "metadata": {
  "kernelspec": {
   "display_name": "Python 3 (ipykernel)",
   "language": "python",
   "name": "python3"
  },
  "language_info": {
   "codemirror_mode": {
    "name": "ipython",
    "version": 3
   },
   "file_extension": ".py",
   "mimetype": "text/x-python",
   "name": "python",
   "nbconvert_exporter": "python",
   "pygments_lexer": "ipython3",
   "version": "3.9.13"
  }
 },
 "nbformat": 4,
 "nbformat_minor": 5
}
