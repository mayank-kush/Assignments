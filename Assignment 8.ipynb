{
 "cells": [
  {
   "cell_type": "markdown",
   "id": "3419b320",
   "metadata": {},
   "source": [
    "Q1. What is an exception in python? Write the difference between exception and syntax error."
   ]
  },
  {
   "cell_type": "markdown",
   "id": "c1f3f78c",
   "metadata": {},
   "source": [
    "Ans:  an exception is an event that occurs during the execution of a program that disrupts the normal flow of the program's instructions. When an exception occurs, the program stops executing the current code block and jumps to the nearest exception handling code (if available) to handle the exceptional condition.\n",
    "The difference between an exception and a syntax error is that an exception occurs during the runtime of the program WHERE AS \n",
    "A syntax error occurs during the parsing phase of the program before it runs."
   ]
  },
  {
   "cell_type": "markdown",
   "id": "f1c7abc2",
   "metadata": {},
   "source": [
    "Q2. What happens when an exception is not handeled? Explain with an example"
   ]
  },
  {
   "cell_type": "markdown",
   "id": "ad4beb52",
   "metadata": {},
   "source": [
    "Ans: When an exception is not handled, it leads to an uncaught exception, causing the program to terminate abruptly. When the Python interpreter encounters an unhandled exception, it prints a traceback message that shows the sequence of function calls that led to the exception and the type of the exception raised. "
   ]
  },
  {
   "cell_type": "code",
   "execution_count": 1,
   "id": "773e44cc",
   "metadata": {},
   "outputs": [
    {
     "ename": "ZeroDivisionError",
     "evalue": "division by zero",
     "output_type": "error",
     "traceback": [
      "\u001b[1;31m---------------------------------------------------------------------------\u001b[0m",
      "\u001b[1;31mZeroDivisionError\u001b[0m                         Traceback (most recent call last)",
      "\u001b[1;32m~\\AppData\\Local\\Temp\\ipykernel_25372\\1504247760.py\u001b[0m in \u001b[0;36m<module>\u001b[1;34m\u001b[0m\n\u001b[1;32m----> 1\u001b[1;33m \u001b[0ma\u001b[0m\u001b[1;33m=\u001b[0m\u001b[1;36m10\u001b[0m\u001b[1;33m/\u001b[0m\u001b[1;36m0\u001b[0m\u001b[1;33m\u001b[0m\u001b[1;33m\u001b[0m\u001b[0m\n\u001b[0m",
      "\u001b[1;31mZeroDivisionError\u001b[0m: division by zero"
     ]
    }
   ],
   "source": [
    "a=10/0"
   ]
  },
  {
   "cell_type": "markdown",
   "id": "53dae615",
   "metadata": {},
   "source": [
    "Q3. which pyhton statements are used to catch and handel exception? explain with example"
   ]
  },
  {
   "cell_type": "markdown",
   "id": "171e07aa",
   "metadata": {},
   "source": [
    "Ans: The try: and except: staements are used to catch and handle the exceptions. the try block catches the excaptions where as the except block handles it."
   ]
  },
  {
   "cell_type": "code",
   "execution_count": 2,
   "id": "e7c6f15f",
   "metadata": {},
   "outputs": [
    {
     "name": "stdout",
     "output_type": "stream",
     "text": [
      "division by zero\n"
     ]
    }
   ],
   "source": [
    "try:\n",
    "    a=10/0\n",
    "    \n",
    "except ZeroDivisionError as e:\n",
    "    print(e)"
   ]
  },
  {
   "cell_type": "markdown",
   "id": "e92e57f1",
   "metadata": {},
   "source": [
    "Q4. Explain with an example:\n",
    "\n",
    " 1.try and else\n",
    " 2.finally\n",
    " 3.raise"
   ]
  },
  {
   "cell_type": "markdown",
   "id": "5cb9c383",
   "metadata": {},
   "source": [
    "Ans 1: The try block catches the error and send it to the except block to be handled and if the except block is unable to handle the error then else statement is executed."
   ]
  },
  {
   "cell_type": "markdown",
   "id": "1b23e34c",
   "metadata": {},
   "source": [
    "Ans2: The finally staement is always exected regardless if the exception is handled or not, it is always executed."
   ]
  },
  {
   "cell_type": "markdown",
   "id": "fd62febc",
   "metadata": {},
   "source": [
    "Ans3: Raise staement is used to create a coustom exception."
   ]
  },
  {
   "cell_type": "markdown",
   "id": "69e96dbb",
   "metadata": {},
   "source": [
    "Q5. what are the coustom exception in python? why do we need coustom exception?"
   ]
  },
  {
   "cell_type": "markdown",
   "id": "62476002",
   "metadata": {},
   "source": [
    "Ans: Custom exceptions in Python are user-defined exception classes that extend the built-in Exception class or any of its subclasses. By creating custom exceptions, you can define specific error types that are meaningful for your application or library. Custom exceptions allow you to add more context and information to the raised exceptions, making it easier to handle and debug errors in your code."
   ]
  },
  {
   "cell_type": "code",
   "execution_count": 3,
   "id": "49fb6a18",
   "metadata": {},
   "outputs": [
    {
     "name": "stdout",
     "output_type": "stream",
     "text": [
      "Error: Cannot divide by zero.\n"
     ]
    }
   ],
   "source": [
    "class InvalidInputError(Exception):\n",
    "    def __init__(self, message=\"Invalid input.\"):\n",
    "        self.message = message\n",
    "        super().__init__(self.message)\n",
    "\n",
    "def divide_numbers(num1, num2):\n",
    "    if num2 == 0:\n",
    "        raise InvalidInputError(\"Cannot divide by zero.\")\n",
    "    return num1 / num2\n",
    "\n",
    "try:\n",
    "    result = divide_numbers(10, 0)\n",
    "except InvalidInputError as e:\n",
    "    print(f\"Error: {e}\")\n"
   ]
  },
  {
   "cell_type": "markdown",
   "id": "1027d362",
   "metadata": {},
   "source": [
    "Q6 Create a coustom exception class, use this class to handle an exception"
   ]
  },
  {
   "cell_type": "code",
   "execution_count": 4,
   "id": "96ddf762",
   "metadata": {},
   "outputs": [
    {
     "name": "stdout",
     "output_type": "stream",
     "text": [
      "Error: Cannot divide by zero.\n"
     ]
    }
   ],
   "source": [
    "class InvalidInputError(Exception):\n",
    "    def __init__(self, message=\"Invalid input.\"):\n",
    "        self.message = message\n",
    "        super().__init__(self.message)\n",
    "\n",
    "def divide_numbers(num1, num2):\n",
    "    if num2 == 0:\n",
    "        raise InvalidInputError(\"Cannot divide by zero.\")\n",
    "    return num1 / num2\n",
    "\n",
    "try:\n",
    "    result = divide_numbers(10, 0)\n",
    "except InvalidInputError as e:\n",
    "    print(f\"Error: {e}\")\n"
   ]
  },
  {
   "cell_type": "code",
   "execution_count": null,
   "id": "656cdae2",
   "metadata": {},
   "outputs": [],
   "source": []
  }
 ],
 "metadata": {
  "kernelspec": {
   "display_name": "Python 3 (ipykernel)",
   "language": "python",
   "name": "python3"
  },
  "language_info": {
   "codemirror_mode": {
    "name": "ipython",
    "version": 3
   },
   "file_extension": ".py",
   "mimetype": "text/x-python",
   "name": "python",
   "nbconvert_exporter": "python",
   "pygments_lexer": "ipython3",
   "version": "3.9.13"
  }
 },
 "nbformat": 4,
 "nbformat_minor": 5
}
