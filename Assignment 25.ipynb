{
 "cells": [
  {
   "cell_type": "markdown",
   "id": "85b05725",
   "metadata": {},
   "source": [
    "Q1. What are the three measures of central tendency?"
   ]
  },
  {
   "cell_type": "markdown",
   "id": "fc674bec",
   "metadata": {},
   "source": [
    "Mean\n",
    "Median\n",
    "Mode"
   ]
  },
  {
   "cell_type": "markdown",
   "id": "eeda6dcc",
   "metadata": {},
   "source": [
    "Q2. What is the difference between the mean, median, and mode? How are they used to measure the\n",
    "central tendency of a dataset?"
   ]
  },
  {
   "cell_type": "markdown",
   "id": "da694b2b",
   "metadata": {},
   "source": [
    "\n",
    "The mean, median, and mode are three common measures of central tendency used in statistics to describe the center or typical value of a dataset. Each of these measures provides insight into different aspects of the data, and they are used in various contexts depending on the nature of the data and the research question."
   ]
  },
  {
   "cell_type": "markdown",
   "id": "796157a8",
   "metadata": {},
   "source": [
    "Q3. Measure the three measures of central tendency for the given height data:\n",
    "[178,177,176,177,178.2,178,175,179,180,175,178.9,176.2,177,172.5,178,176.5]"
   ]
  },
  {
   "cell_type": "code",
   "execution_count": 3,
   "id": "199fcbf1",
   "metadata": {},
   "outputs": [
    {
     "data": {
      "text/plain": [
       "177.01875"
      ]
     },
     "execution_count": 3,
     "metadata": {},
     "output_type": "execute_result"
    }
   ],
   "source": [
    "import numpy as np \n",
    "import statistics\n",
    "data=[178,177,176,177,178.2,178,175,179,180,175,178.9,176.2,177,172.5,178,176.5]\n",
    "np.mean(data)\n"
   ]
  },
  {
   "cell_type": "code",
   "execution_count": 5,
   "id": "3ca4745c",
   "metadata": {},
   "outputs": [
    {
     "data": {
      "text/plain": [
       "177.0"
      ]
     },
     "execution_count": 5,
     "metadata": {},
     "output_type": "execute_result"
    }
   ],
   "source": [
    "np.median(data)\n"
   ]
  },
  {
   "cell_type": "code",
   "execution_count": 4,
   "id": "d4548d5e",
   "metadata": {},
   "outputs": [
    {
     "data": {
      "text/plain": [
       "178"
      ]
     },
     "execution_count": 4,
     "metadata": {},
     "output_type": "execute_result"
    }
   ],
   "source": [
    "statistics.mode(data)"
   ]
  },
  {
   "cell_type": "markdown",
   "id": "9334fec9",
   "metadata": {},
   "source": [
    "Q4. Find the standard deviation for the given data:\n",
    "[178,177,176,177,178.2,178,175,179,180,175,178.9,176.2,177,172.5,178,176.5]"
   ]
  },
  {
   "cell_type": "code",
   "execution_count": 6,
   "id": "d8834177",
   "metadata": {},
   "outputs": [
    {
     "data": {
      "text/plain": [
       "1.7885814036548633"
      ]
     },
     "execution_count": 6,
     "metadata": {},
     "output_type": "execute_result"
    }
   ],
   "source": [
    "data1=[178,177,176,177,178.2,178,175,179,180,175,178.9,176.2,177,172.5,178,176.5]\n",
    "np.std(data1)"
   ]
  },
  {
   "cell_type": "markdown",
   "id": "6a8dee94",
   "metadata": {},
   "source": [
    "Q5. How are measures of dispersion such as range, variance, and standard deviation used to describe\n",
    "the spread of a dataset? Provide an example."
   ]
  },
  {
   "cell_type": "markdown",
   "id": "793cbd94",
   "metadata": {},
   "source": [
    "\n",
    "Measures of dispersion, such as range, variance, and standard deviation, are used to describe the spread or variability of data within a dataset. They provide insights into how much individual data points deviate from the central tendency (mean, median, or mode) and help quantify the degree of variability or dispersion in the dataset."
   ]
  },
  {
   "cell_type": "markdown",
   "id": "4d59512b",
   "metadata": {},
   "source": [
    "Q6. What is a Venn diagram?"
   ]
  },
  {
   "cell_type": "markdown",
   "id": "a616a19f",
   "metadata": {},
   "source": [
    "Venn diagrams are a way of representing data and perfrming varius operations on the data such as union , difference, intersection, etc."
   ]
  },
  {
   "cell_type": "markdown",
   "id": "471e904e",
   "metadata": {},
   "source": [
    "Q7. For the two given sets A = (2,3,4,5,6,7) & B = (0,2,6,8,10). Find:\n",
    "(i) A B\n",
    "(ii) A ⋃ B"
   ]
  },
  {
   "cell_type": "code",
   "execution_count": 7,
   "id": "f2311321",
   "metadata": {},
   "outputs": [
    {
     "data": {
      "text/plain": [
       "{0, 2, 3, 4, 5, 6, 7, 8, 10}"
      ]
     },
     "execution_count": 7,
     "metadata": {},
     "output_type": "execute_result"
    }
   ],
   "source": [
    "A = {2,3,4,5,6,7}\n",
    "B = {0,2,6,8,10}\n",
    "A.union(B)"
   ]
  },
  {
   "cell_type": "code",
   "execution_count": 8,
   "id": "30ddd29e",
   "metadata": {},
   "outputs": [
    {
     "data": {
      "text/plain": [
       "{2, 6}"
      ]
     },
     "execution_count": 8,
     "metadata": {},
     "output_type": "execute_result"
    }
   ],
   "source": [
    "A.intersection(B)"
   ]
  },
  {
   "cell_type": "markdown",
   "id": "d37c92b7",
   "metadata": {},
   "source": [
    "Q8. What do you understand about skewness in data?"
   ]
  },
  {
   "cell_type": "markdown",
   "id": "bf1f2899",
   "metadata": {},
   "source": [
    "Skewness is a statistical measure that describes the asymmetry or lack of symmetry in the distribution of data. It quantifies the degree to which the data is skewed or shifted away from a perfectly symmetrical distribution, such as a normal distribution (bell-shaped curve)."
   ]
  },
  {
   "cell_type": "markdown",
   "id": "672ac9e6",
   "metadata": {},
   "source": [
    "Q9. If a data is right skewed then what will be the position of median with respect to mean?"
   ]
  },
  {
   "cell_type": "markdown",
   "id": "8316e3b0",
   "metadata": {},
   "source": [
    "median will be left of mean"
   ]
  },
  {
   "cell_type": "markdown",
   "id": "27f97bda",
   "metadata": {},
   "source": [
    "Q10. Explain the difference between covariance and correlation. How are these measures used in\n",
    "statistical analysis?"
   ]
  },
  {
   "cell_type": "markdown",
   "id": "2964cfde",
   "metadata": {},
   "source": [
    "\n",
    "Covariance and correlation are both measures used in statistical analysis to describe the relationship between two or more variables, but they serve slightly different purposes and have different interpretations.|"
   ]
  },
  {
   "cell_type": "markdown",
   "id": "defde23e",
   "metadata": {},
   "source": [
    "Q11. What is the formula for calculating the sample mean? Provide an example calculation for a\n",
    "dataset."
   ]
  },
  {
   "cell_type": "markdown",
   "id": "74ea1ee4",
   "metadata": {},
   "source": [
    "Dataset: [85,88,92,78,90]\n",
    "\n",
    "To calculate the sample mean:\n",
    "\n",
    "Add up all the values: \n"
   ]
  },
  {
   "cell_type": "code",
   "execution_count": 9,
   "id": "7d7958d9",
   "metadata": {},
   "outputs": [],
   "source": [
    "d= [85,88,92,78,90]"
   ]
  },
  {
   "cell_type": "code",
   "execution_count": 11,
   "id": "27c1f91e",
   "metadata": {},
   "outputs": [
    {
     "data": {
      "text/plain": [
       "433"
      ]
     },
     "execution_count": 11,
     "metadata": {},
     "output_type": "execute_result"
    }
   ],
   "source": [
    "np.sum(d)"
   ]
  },
  {
   "cell_type": "code",
   "execution_count": 12,
   "id": "930ea917",
   "metadata": {},
   "outputs": [
    {
     "data": {
      "text/plain": [
       "86.6"
      ]
     },
     "execution_count": 12,
     "metadata": {},
     "output_type": "execute_result"
    }
   ],
   "source": [
    "433/5"
   ]
  },
  {
   "cell_type": "markdown",
   "id": "5abacb73",
   "metadata": {},
   "source": [
    "Q12. For a normal distribution data what is the relationship between its measure of central tendency?"
   ]
  },
  {
   "cell_type": "markdown",
   "id": "9056cd4d",
   "metadata": {},
   "source": [
    "Mean (Average):\n",
    "\n",
    "The mean of a normal distribution is located at the center of the distribution.\n",
    "It is equal to the median.\n",
    "The mean is the point of balance in a symmetrical normal distribution.\n",
    "Median:\n",
    "\n",
    "The median of a normal distribution is also located at the center of the distribution.\n",
    "It is equal to the mean.\n",
    "The median is the middle value when the data is arranged in ascending or descending order, and since a normal distribution is symmetric, the middle value is also the mean.\n",
    "Mode:\n",
    "\n",
    "In a normal distribution, the mode is also equal to the mean and median.\n",
    "It is the value with the highest frequency in the distribution.\n",
    "For a perfect (unimodal) normal distribution, there is only one mode, and it coincides with the mean and median."
   ]
  },
  {
   "cell_type": "markdown",
   "id": "507846aa",
   "metadata": {},
   "source": [
    "Q13. How is covariance different from correlation?"
   ]
  },
  {
   "cell_type": "markdown",
   "id": "9a81161e",
   "metadata": {},
   "source": [
    "Covariance is a measure of the degree to which two variables change together. It indicates whether an increase in one variable is associated with an increase or decrease in another variable.\n",
    "\n",
    "Correlation is a standardized measure of the linear relationship between two variables. It quantifies the strength and direction of the linear association between them."
   ]
  },
  {
   "cell_type": "markdown",
   "id": "6b036a37",
   "metadata": {},
   "source": [
    "Q14. How do outliers affect measures of central tendency and dispersion? Provide an example."
   ]
  },
  {
   "cell_type": "markdown",
   "id": "785be346",
   "metadata": {},
   "source": [
    "Outliers can significantly impact measures of central tendency and dispersion in a dataset. They can skew the values of these statistics, leading to potentially misleading summaries of the data. "
   ]
  },
  {
   "cell_type": "code",
   "execution_count": null,
   "id": "8ea6a00e",
   "metadata": {},
   "outputs": [],
   "source": []
  }
 ],
 "metadata": {
  "kernelspec": {
   "display_name": "Python 3 (ipykernel)",
   "language": "python",
   "name": "python3"
  },
  "language_info": {
   "codemirror_mode": {
    "name": "ipython",
    "version": 3
   },
   "file_extension": ".py",
   "mimetype": "text/x-python",
   "name": "python",
   "nbconvert_exporter": "python",
   "pygments_lexer": "ipython3",
   "version": "3.9.13"
  }
 },
 "nbformat": 4,
 "nbformat_minor": 5
}
