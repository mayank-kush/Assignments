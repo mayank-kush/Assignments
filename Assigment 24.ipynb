{
 "cells": [
  {
   "cell_type": "markdown",
   "id": "f8511ee5",
   "metadata": {},
   "source": [
    "Q1. What is Statistics?"
   ]
  },
  {
   "cell_type": "markdown",
   "id": "f18608ca",
   "metadata": {},
   "source": [
    "Statistics is a branch of mathematics and a field of study that involves collecting, organizing, analyzing, interpreting, and presenting data. It provides methods and tools for making sense of complex data sets and extracting meaningful information from them. The primary goal of statistics is to gain insights, make predictions, and draw conclusions about various phenomena based on empirical data."
   ]
  },
  {
   "cell_type": "markdown",
   "id": "fd331266",
   "metadata": {},
   "source": [
    "Q2. Define the different types of statistics and give an example of when each type might be used."
   ]
  },
  {
   "cell_type": "markdown",
   "id": "708c2037",
   "metadata": {},
   "source": [
    "Descriptive Statistics:\n",
    "\n",
    "Purpose: Descriptive statistics are used to summarize and describe the main features of a data set. They provide a clear and concise overview of the data.\n",
    "Example: Calculating the mean, median, and standard deviation of test scores for a class of students to understand the central tendency and variability of their performance.\n",
    "Inferential Statistics:\n",
    "\n",
    "Purpose: Inferential statistics are used to make predictions or draw inferences about a population based on a sample of data. They help in generalizing results from a subset to a larger group.\n",
    "Example: Conducting a survey of 500 randomly selected voters to estimate the percentage of all eligible voters who support a particular candidate in an upcoming election."
   ]
  },
  {
   "cell_type": "markdown",
   "id": "9a0ff579",
   "metadata": {},
   "source": [
    "Q3. What are the different types of data and how do they differ from each other? Provide an example of\n",
    "each type of data."
   ]
  },
  {
   "cell_type": "markdown",
   "id": "dcfc8f3f",
   "metadata": {},
   "source": [
    "There are two types of data:\n",
    "\n",
    "qualitative ex- numeric data like height of students\n",
    "\n",
    "quantitative ex- pin codes "
   ]
  },
  {
   "cell_type": "markdown",
   "id": "3af90a60",
   "metadata": {},
   "source": [
    "Q4. Categorise the following datasets with respect to quantitative and qualitative data types:\n",
    "(i) Grading in exam: A+, A, B+, B, C+, C, D, E\n",
    "(ii) Colour of mangoes: yellow, green, orange, red\n",
    "(iii) Height data of a class: [178.9, 179, 179.5, 176, 177.2, 178.3, 175.8,...]\n",
    "(iv) Number of mangoes exported by a farm: [500, 600, 478, 672, ...]"
   ]
  },
  {
   "cell_type": "markdown",
   "id": "cf7680cd",
   "metadata": {},
   "source": [
    "1) qualitative \n",
    "\n",
    "2) qualitative\n",
    "\n",
    "3) quantitavive\n",
    "\n",
    "4) quantitavive"
   ]
  },
  {
   "cell_type": "markdown",
   "id": "1b5e0a3b",
   "metadata": {},
   "source": [
    "Q5. Explain the concept of levels of measurement and give an example of a variable for each level."
   ]
  },
  {
   "cell_type": "markdown",
   "id": "50ac6754",
   "metadata": {},
   "source": [
    "Nominal Level (Categorical):\n",
    "\n",
    "At the nominal level, data is categorized into distinct categories or groups with no inherent order or ranking.\n",
    "Variables at this level are typically labels or names.\n",
    "There is no meaningful way to perform mathematical operations on nominal data.\n",
    "Examples:\n",
    "Eye color (categories: blue, brown, green)\n",
    "Types of fruits (categories: apple, banana, orange)\n",
    "Ordinal Level:\n",
    "\n",
    "At the ordinal level, data is categorized into ordered or ranked categories where the intervals between categories may not be equal or meaningful.\n",
    "Variables at this level have a relative ranking but lack a consistent measurement unit.\n",
    "Ordinal data can be used for ranking and making qualitative comparisons.\n",
    "Examples:\n",
    "Educational attainment (categories: high school diploma, bachelor's degree, master's degree)\n",
    "Customer satisfaction rating (categories: very satisfied, satisfied, neutral, dissatisfied, very dissatisfied)\n",
    "Interval Level:\n",
    "\n",
    "At the interval level, data is measured on a scale with equal intervals between values, but there is no true zero point.\n",
    "Variables at this level can be used for arithmetic operations like addition and subtraction, but meaningful ratios (multiplication and division) are not possible.\n",
    "Examples:\n",
    "Temperature in Celsius (e.g., 20°C, 30°C)\n",
    "IQ scores (e.g., IQ 100, IQ 120)\n",
    "Ratio Level:\n",
    "\n",
    "At the ratio level, data is measured on a scale with equal intervals between values, and it includes a true zero point, which represents the absence of the quantity being measured.\n",
    "Variables at this level can be used for all mathematical operations, including meaningful ratios.\n",
    "Examples:\n",
    "Age in years (e.g., 25 years, 40 years)\n",
    "Height in centimeters (e.g., 160 cm, 180 cm)\n",
    "Income in dollars (e.g., $0, $50,000)"
   ]
  },
  {
   "cell_type": "markdown",
   "id": "d61080de",
   "metadata": {},
   "source": [
    "Q6. Why is it important to understand the level of measurement when analyzing data? Provide an\n",
    "example to illustrate your answer."
   ]
  },
  {
   "cell_type": "markdown",
   "id": "6d66ef0f",
   "metadata": {},
   "source": [
    "\n",
    "Understanding the level of measurement is crucial when analyzing data because it determines the types of statistical analyses and operations that can be applied to the data. Failing to account for the level of measurement can lead to incorrect conclusions, misinterpretations, and inappropriate statistical techniques."
   ]
  },
  {
   "cell_type": "markdown",
   "id": "7d4a2270",
   "metadata": {},
   "source": [
    "Q7. How nominal data type is different from ordinal data type."
   ]
  },
  {
   "cell_type": "markdown",
   "id": "959e551e",
   "metadata": {},
   "source": [
    "Nominal Data:\n",
    "\n",
    "Nature: Nominal data, also known as categorical data, consists of categories or labels used to classify items into discrete groups. These categories have no inherent order or ranking.\n",
    "Measurement Scale: Nominal data is at the lowest level of measurement, and it lacks numerical value. The categories are simply labels.\n",
    "Examples: Examples of nominal data include gender (categories: male, female), eye color (categories: blue, brown, green), or types of fruit (categories: apple, banana, orange).\n",
    "Mathematical Operations: Nominal data does not support mathematical operations like addition, subtraction, or multiplication because there is no meaningful numeric value associated with the categories.\n",
    "Analysis: Statistical analysis of nominal data typically involves calculating frequencies, proportions, or conducting chi-square tests to examine relationships between categories.\n",
    "Ordinal Data:\n",
    "\n",
    "Nature: Ordinal data represents categories with a meaningful order or ranking. While there is an order, the intervals between categories may not be equal or meaningful.\n",
    "Measurement Scale: Ordinal data is at a higher level of measurement compared to nominal data. It includes the concept of ranking without precise measurement.\n",
    "Examples: Examples of ordinal data include education levels (categories: high school diploma, bachelor's degree, master's degree), customer satisfaction ratings (categories: very satisfied, satisfied, neutral, dissatisfied, very dissatisfied), or socioeconomic status (categories: low, middle, high).\n",
    "Mathematical Operations: Ordinal data allows for ranking and making qualitative comparisons. You can say that one category is higher or lower than another, but you can't perform meaningful arithmetic operations, such as finding the average, because the intervals between categories are not uniform or quantifiable.\n",
    "Analysis: Analyzing ordinal data often involves non-parametric statistical methods like the Mann-Whitney U test or Spearman's rank correlation coefficient. These methods take into account the order of the categories but do not assume that the intervals between them are equal."
   ]
  },
  {
   "cell_type": "markdown",
   "id": "767ebcf5",
   "metadata": {},
   "source": [
    "Q8. Which type of plot can be used to display data in terms of range?"
   ]
  },
  {
   "cell_type": "markdown",
   "id": "f20ae76c",
   "metadata": {},
   "source": [
    "box plot"
   ]
  },
  {
   "cell_type": "markdown",
   "id": "ceb13b71",
   "metadata": {},
   "source": [
    "Q9. Describe the difference between descriptive and inferential statistics. Give an example of each\n",
    "type of statistics and explain how they are used."
   ]
  },
  {
   "cell_type": "markdown",
   "id": "3f3e04cc",
   "metadata": {},
   "source": [
    "Descriptive Statistics:\n",
    "\n",
    "Purpose: Descriptive statistics are used to summarize, organize, and present data in a meaningful and easily understandable way. They help in providing a snapshot of the key features and characteristics of a dataset.\n",
    "\n",
    "Example: Suppose you have collected the ages of 100 individuals. Descriptive statistics would involve calculating measures such as the mean (average) age, median (middle value), and standard deviation (measure of data spread) of these ages. These summary statistics offer insights into the central tendency and variability within the dataset.\n",
    "\n",
    "Use: Descriptive statistics are commonly used to:\n",
    "\n",
    "Simplify large datasets for easier interpretation.\n",
    "Identify patterns and trends within data.\n",
    "Create visual representations like histograms, bar charts, or pie charts to illustrate data distribution.\n",
    "Summarize data for reporting or initial exploration.\n",
    "Inferential Statistics:\n",
    "\n",
    "Purpose: Inferential statistics are used to make predictions, draw conclusions, and make inferences about a population based on a sample of data. They extend findings from a sample to a larger population and assess the reliability of those findings.\n",
    "\n",
    "Example: Imagine you want to determine whether a new drug is effective in treating a particular medical condition. You might conduct a clinical trial with a sample of patients, administer the drug to one group (experimental) and a placebo to another (control), and then compare the outcomes. Inferential statistics, such as hypothesis testing, would help you determine whether the observed differences in outcomes are statistically significant and whether you can generalize the results to the broader population of patients with the same condition.\n",
    "\n",
    "Use: Inferential statistics are commonly used to:\n",
    "\n",
    "Test hypotheses and research questions.\n",
    "Make predictions about future events or behaviors based on historical data.\n",
    "Assess the impact of interventions, treatments, or policy changes.\n",
    "Provide estimates and quantify uncertainty in findings."
   ]
  },
  {
   "cell_type": "markdown",
   "id": "4258a555",
   "metadata": {},
   "source": [
    "Q10. What are some common measures of central tendency and variability used in statistics? Explain\n",
    "how each measure can be used to describe a dataset."
   ]
  },
  {
   "cell_type": "markdown",
   "id": "ae13cf7b",
   "metadata": {},
   "source": [
    "mean , median , mode"
   ]
  },
  {
   "cell_type": "code",
   "execution_count": null,
   "id": "84a4cb20",
   "metadata": {},
   "outputs": [],
   "source": []
  }
 ],
 "metadata": {
  "kernelspec": {
   "display_name": "Python 3 (ipykernel)",
   "language": "python",
   "name": "python3"
  },
  "language_info": {
   "codemirror_mode": {
    "name": "ipython",
    "version": 3
   },
   "file_extension": ".py",
   "mimetype": "text/x-python",
   "name": "python",
   "nbconvert_exporter": "python",
   "pygments_lexer": "ipython3",
   "version": "3.9.13"
  }
 },
 "nbformat": 4,
 "nbformat_minor": 5
}
