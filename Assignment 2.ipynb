{
 "cells": [
  {
   "cell_type": "markdown",
   "id": "a76e1e7f",
   "metadata": {},
   "source": [
    "Q1. How do you comment code in Python? What are the different types of comments?"
   ]
  },
  {
   "cell_type": "markdown",
   "id": "c2f7d07e",
   "metadata": {},
   "source": [
    "Ans : comments are information in between code which are ignored by the interpreter during the execution of the program.\n",
    "\n",
    "Types of Comments in Python\n",
    "1. Single-Line Comments in Python\n",
    "\n",
    "Python single-line comment starts with the hashtag symbol (#) with no white spaces and lasts till the end of the line. for ex\n"
   ]
  },
  {
   "cell_type": "code",
   "execution_count": 1,
   "id": "5100e2f8",
   "metadata": {},
   "outputs": [],
   "source": [
    "#hello world"
   ]
  },
  {
   "cell_type": "markdown",
   "id": "2e3469f7",
   "metadata": {},
   "source": [
    "2. Mutli line comments\n",
    "\n",
    "python does not provide multiline comments , but we can do it by using the '#' symbol at the start of each line of comment."
   ]
  },
  {
   "cell_type": "code",
   "execution_count": 2,
   "id": "dd7dd5ad",
   "metadata": {},
   "outputs": [],
   "source": [
    "#hello world.\n",
    "# this is a comment."
   ]
  },
  {
   "cell_type": "markdown",
   "id": "eefdaabb",
   "metadata": {},
   "source": [
    "Q2. What are variables in Python? How do you declare and assign values to variables?"
   ]
  },
  {
   "cell_type": "markdown",
   "id": "aef7504f",
   "metadata": {},
   "source": [
    "Ans: A variable is a string of characters and numbers that is used to store value or data whithin it.\n",
    "we can declare a variable simply just by typing it name and assigning a value to is using the assigment operator '=' , the python automatically determines the data type of that variable according to the data stored in it."
   ]
  },
  {
   "cell_type": "code",
   "execution_count": 3,
   "id": "dd131efe",
   "metadata": {},
   "outputs": [
    {
     "name": "stdout",
     "output_type": "stream",
     "text": [
      "<class 'int'>\n",
      "<class 'str'>\n",
      "<class 'float'>\n"
     ]
    }
   ],
   "source": [
    "A=20\n",
    "B=\"hello\"\n",
    "C=5.8\n",
    "print(type(A))\n",
    "print(type(B))\n",
    "print(type(C))"
   ]
  },
  {
   "cell_type": "markdown",
   "id": "67d02f4d",
   "metadata": {},
   "source": [
    "Q3. How do you convert one data type to another in Python?"
   ]
  },
  {
   "cell_type": "markdown",
   "id": "864b04c6",
   "metadata": {},
   "source": [
    "Ans: In Implicit type conversion of data types in Python, the Python interpreter automatically converts one data type to another without any user involvement.\n",
    "In Explicit Type Conversion in Python, the data type is manually changed by the user as per their requirement.\n",
    "Python provides different fuction for this task such as int(), float(),tuplr(),set(),list()."
   ]
  },
  {
   "cell_type": "code",
   "execution_count": 4,
   "id": "879e106b",
   "metadata": {},
   "outputs": [
    {
     "name": "stdout",
     "output_type": "stream",
     "text": [
      "10010\n"
     ]
    }
   ],
   "source": [
    "s = \"10010\"\n",
    "c = int(s)\n",
    "print (c)"
   ]
  },
  {
   "cell_type": "markdown",
   "id": "f6ae35b9",
   "metadata": {},
   "source": [
    "Q4. How do you write and execute a Python script from the command line?"
   ]
  },
  {
   "cell_type": "markdown",
   "id": "ca7543e9",
   "metadata": {},
   "source": [
    "Ans: First we need to download and install python is our system . Then in the command prompt we need to type python and then write out our script in int , and then hit enter, this will execute our script in the simplest way."
   ]
  },
  {
   "cell_type": "markdown",
   "id": "f83786ee",
   "metadata": {},
   "source": [
    "Q5. Given a list my_list = [1, 2, 3, 4, 5], write the code to slice the list and obtain the sub-list [2, 3]."
   ]
  },
  {
   "cell_type": "code",
   "execution_count": 5,
   "id": "45f1722e",
   "metadata": {},
   "outputs": [
    {
     "name": "stdout",
     "output_type": "stream",
     "text": [
      "[2, 3]\n"
     ]
    }
   ],
   "source": [
    "my_list = [1, 2, 3, 4, 5]\n",
    "print(my_list[1:3])"
   ]
  },
  {
   "cell_type": "markdown",
   "id": "77f64558",
   "metadata": {},
   "source": [
    "Q6. What is a complex number in mathematics, and how is it represented in Python?"
   ]
  },
  {
   "cell_type": "markdown",
   "id": "407b074e",
   "metadata": {},
   "source": [
    "Ans: A complex number is a number which consists of two parts : 1) Real part , 2) Imaginary part. in maths the imaginary part is represented by 'i' , but in python we use 'j' instead of 'i' to represent the complex part for ex.\n"
   ]
  },
  {
   "cell_type": "code",
   "execution_count": 6,
   "id": "c811c2af",
   "metadata": {},
   "outputs": [
    {
     "name": "stdout",
     "output_type": "stream",
     "text": [
      "The real part of complex number is : 5.0\n",
      "The imaginary part of complex number is : 3.0\n"
     ]
    }
   ],
   "source": [
    "z = 5+3j\n",
    "print(\"The real part of complex number is : \", end=\"\")\n",
    "print(z.real)\n",
    " \n",
    "print(\"The imaginary part of complex number is : \", end=\"\")\n",
    "print(z.imag)"
   ]
  },
  {
   "cell_type": "markdown",
   "id": "4bf048fb",
   "metadata": {},
   "source": [
    "Q7. What is the correct way to declare a variable named age and assign the value 25 to it?"
   ]
  },
  {
   "cell_type": "code",
   "execution_count": 7,
   "id": "0b063d90",
   "metadata": {},
   "outputs": [
    {
     "name": "stdout",
     "output_type": "stream",
     "text": [
      "25\n"
     ]
    }
   ],
   "source": [
    "Age=25\n",
    "print(Age)"
   ]
  },
  {
   "cell_type": "markdown",
   "id": "8f6cfb16",
   "metadata": {},
   "source": [
    "Q8. Declare a variable named price and assign the value 9.99 to it. What data type does this variable\n",
    "belong to?"
   ]
  },
  {
   "cell_type": "code",
   "execution_count": 8,
   "id": "ec438609",
   "metadata": {},
   "outputs": [
    {
     "name": "stdout",
     "output_type": "stream",
     "text": [
      "9.99\n",
      "<class 'float'>\n"
     ]
    }
   ],
   "source": [
    "price=9.99\n",
    "print(price)\n",
    "print(type(price))"
   ]
  },
  {
   "cell_type": "markdown",
   "id": "75c48719",
   "metadata": {},
   "source": [
    "Q9. Create a variable named name and assign your full name to it as a string. How would you print the\n",
    "value of this variable?"
   ]
  },
  {
   "cell_type": "code",
   "execution_count": 9,
   "id": "a005c691",
   "metadata": {},
   "outputs": [
    {
     "name": "stdout",
     "output_type": "stream",
     "text": [
      "Mayank kush\n"
     ]
    }
   ],
   "source": [
    "name=\"Mayank kush\"\n",
    "print(name)"
   ]
  },
  {
   "cell_type": "markdown",
   "id": "0bf32a50",
   "metadata": {},
   "source": [
    "Q10. Given the string \"Hello, World!\", extract the substring \"World\"."
   ]
  },
  {
   "cell_type": "code",
   "execution_count": 10,
   "id": "9aaed804",
   "metadata": {},
   "outputs": [
    {
     "name": "stdout",
     "output_type": "stream",
     "text": [
      "World\n"
     ]
    }
   ],
   "source": [
    "a=\"Hello, World!\"\n",
    "print(a[7:12])"
   ]
  },
  {
   "cell_type": "markdown",
   "id": "6b92943a",
   "metadata": {},
   "source": [
    "Q11. Create a variable named \"is_student\" and assign it a boolean value indicating whether you are\n",
    "currently a student or not."
   ]
  },
  {
   "cell_type": "code",
   "execution_count": 12,
   "id": "1af620b1",
   "metadata": {},
   "outputs": [
    {
     "name": "stdout",
     "output_type": "stream",
     "text": [
      "True\n",
      "<class 'bool'>\n"
     ]
    }
   ],
   "source": [
    "Is_student=True\n",
    "print(Is_student)\n",
    "print(type(Is_student))"
   ]
  },
  {
   "cell_type": "code",
   "execution_count": null,
   "id": "3c8659af",
   "metadata": {},
   "outputs": [],
   "source": []
  }
 ],
 "metadata": {
  "kernelspec": {
   "display_name": "Python 3 (ipykernel)",
   "language": "python",
   "name": "python3"
  },
  "language_info": {
   "codemirror_mode": {
    "name": "ipython",
    "version": 3
   },
   "file_extension": ".py",
   "mimetype": "text/x-python",
   "name": "python",
   "nbconvert_exporter": "python",
   "pygments_lexer": "ipython3",
   "version": "3.9.13"
  }
 },
 "nbformat": 4,
 "nbformat_minor": 5
}
