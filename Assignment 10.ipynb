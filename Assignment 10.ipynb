{
 "cells": [
  {
   "cell_type": "markdown",
   "id": "db504456",
   "metadata": {},
   "source": [
    "Q1 What is multithreading in python? hy is it used? Name the module used to handle threads in python"
   ]
  },
  {
   "cell_type": "markdown",
   "id": "ea35f584",
   "metadata": {},
   "source": [
    "Ans : Multithreading in Python refers to the execution of multiple threads simultaneously within a single Python process. A thread is a lightweight subprocess that shares the same memory space with other threads in the same process. Multithreading is used to perform concurrent tasks and take advantage of multi-core processors to improve performance in certain scenarios.\n",
    "\n",
    "The Threading module is used to handle threads in pyhton"
   ]
  },
  {
   "cell_type": "markdown",
   "id": "f9de7fbb",
   "metadata": {},
   "source": [
    "Q2. Why threading module used? Write the use of the following functions\n",
    " activeCount\n",
    " currentThread\n",
    " enumerate"
   ]
  },
  {
   "cell_type": "markdown",
   "id": "37ce7de4",
   "metadata": {},
   "source": [
    "The threading module in Python is used for creating and managing threads, allowing you to perform concurrent tasks and handle multi-threaded programming in a higher-level and more convenient way"
   ]
  },
  {
   "cell_type": "markdown",
   "id": "87adcde6",
   "metadata": {},
   "source": [
    "activeCount():\n",
    "\n",
    "This function returns the number of Thread objects that are currently active and running in the Python process.\n",
    "It is useful for monitoring the number of active threads and can be used for various synchronization and debugging purposes."
   ]
  },
  {
   "cell_type": "markdown",
   "id": "0f294608",
   "metadata": {},
   "source": [
    "currentThread():\n",
    "\n",
    "This function returns the current Thread object representing the thread from which it is called.\n",
    "It is useful for accessing and working with the properties of the current thread, such as its name or ID."
   ]
  },
  {
   "cell_type": "markdown",
   "id": "df072537",
   "metadata": {},
   "source": [
    "enumerate():\n",
    "\n",
    "This function returns a list of all currently active Thread objects.\n",
    "It is useful for obtaining a list of all running threads, which can be helpful for monitoring, debugging, or waiting for specific threads to finish."
   ]
  },
  {
   "cell_type": "markdown",
   "id": "aafd07dc",
   "metadata": {},
   "source": [
    "Q3. Explain the following functions\n",
    "\n",
    "run\n",
    " \n",
    " start\n",
    " \n",
    " join\n",
    " \n",
    " isAlive"
   ]
  },
  {
   "cell_type": "markdown",
   "id": "6d199459",
   "metadata": {},
   "source": [
    "run():\n",
    "\n",
    "run() is not a function in the threading module but rather a method that can be overridden in custom thread classes.\n",
    "When you create a custom thread class by subclassing threading.Thread, you can override the run() method in that class.\n",
    "The run() method defines the code that will be executed by the thread when it is started using the start() method."
   ]
  },
  {
   "cell_type": "markdown",
   "id": "e6d68599",
   "metadata": {},
   "source": [
    "start():\n",
    "\n",
    "The start() method is used to start the execution of a thread.\n",
    "When the start() method is called on a Thread object, it causes the thread's run() method (or the custom overridden run() method) to be executed concurrently.\n",
    "It is important to note that the run() method should not be called directly. Instead, always use start() to initiate the thread's execution."
   ]
  },
  {
   "cell_type": "markdown",
   "id": "3e119018",
   "metadata": {},
   "source": [
    "join():\n",
    "\n",
    "The join() method is used to wait for a thread to complete its execution before continuing with the rest of the program.\n",
    "When you call join() on a Thread object, the program will block at that point until the thread is finished running.\n",
    "This is useful when you want to ensure that the main program doesn't proceed until all threads have completed their tasks."
   ]
  },
  {
   "cell_type": "markdown",
   "id": "cee51547",
   "metadata": {},
   "source": [
    "isAlive():\n",
    "\n",
    "The isAlive() method is used to check if a thread is currently running or still active.\n",
    "When called on a Thread object, it returns True if the thread is active (running) and False if it has completed its task or has not started yet."
   ]
  },
  {
   "cell_type": "markdown",
   "id": "c56080fe",
   "metadata": {},
   "source": [
    "Q4. Write a python program to create two threads. Thread one must print the list of squares and thread\n",
    "two must print the list of cubes"
   ]
  },
  {
   "cell_type": "code",
   "execution_count": 1,
   "id": "e4521b1b",
   "metadata": {},
   "outputs": [
    {
     "name": "stdout",
     "output_type": "stream",
     "text": [
      "List of squares: [1, 4, 9, 16, 25, 36, 49, 64, 81, 100]\n",
      "List of cubes: [1, 8, 27, 64, 125, 216, 343, 512, 729, 1000]\n",
      "Both threads have finished.\n"
     ]
    }
   ],
   "source": [
    "import threading\n",
    "\n",
    "def print_squares(numbers):\n",
    "    squares = [num * num for num in numbers]\n",
    "    print(\"List of squares:\", squares)\n",
    "\n",
    "def print_cubes(numbers):\n",
    "    cubes = [num ** 3 for num in numbers]\n",
    "    print(\"List of cubes:\", cubes)\n",
    "\n",
    "if __name__ == \"__main__\":\n",
    "    numbers = list(range(1, 11))\n",
    "\n",
    "    thread1 = threading.Thread(target=print_squares, args=(numbers,))\n",
    "    thread2 = threading.Thread(target=print_cubes, args=(numbers,))\n",
    "\n",
    "    thread1.start()\n",
    "    thread2.start()\n",
    "\n",
    "    thread1.join()\n",
    "    thread2.join()\n",
    "\n",
    "    print(\"Both threads have finished.\")\n"
   ]
  },
  {
   "cell_type": "markdown",
   "id": "5ebf93fb",
   "metadata": {},
   "source": [
    "Q5. State advantages and disadvantages of multithreading"
   ]
  },
  {
   "cell_type": "markdown",
   "id": "168aea1d",
   "metadata": {},
   "source": [
    "Advantages of Multithreading:\n",
    "\n",
    "Concurrency: Multithreading allows concurrent execution of tasks, which can lead to improved performance and better resource utilization, especially for I/O-bound operations.\n",
    "\n",
    "Responsiveness: In applications with a graphical user interface (GUI), multithreading keeps the main thread (UI thread) responsive while performing time-consuming tasks in the background, preventing the user interface from freezing.\n",
    "\n",
    "Efficient Resource Sharing: Threads share the same memory space, making it easier to share data and resources between threads without the need for complex communication mechanisms.\n",
    "\n",
    "Parallelism: Although Python's Global Interpreter Lock (GIL) limits true parallelism for CPU-bound tasks, multithreading can still be beneficial for tasks that involve waiting for I/O operations, allowing other threads to continue executing.\n",
    "\n",
    "Asynchronous Operations: Multithreading can be used to handle asynchronous I/O tasks, such as handling multiple network connections, allowing for more efficient use of time.\n",
    "\n",
    "Simplified Code: Some tasks, like handling concurrent I/O, become simpler with multithreading as it abstracts away complex asynchronous programming patterns.\n",
    "\n",
    "Disadvantages of Multithreading:\n",
    "\n",
    "Complexity: Multithreading can introduce complex synchronization and concurrency issues, such as race conditions, deadlocks, and thread contention. Debugging and solving such issues can be challenging.\n",
    "\n",
    "GIL Limitations: In Python, the Global Interpreter Lock (GIL) prevents multiple threads from executing Python bytecode in parallel on multi-core processors. As a result, multithreading might not yield significant performance improvements for CPU-bound tasks.\n",
    "\n",
    "Increased Memory Usage: Each thread has its own execution stack, which consumes additional memory. Creating too many threads can lead to high memory usage and potentially impact the overall performance.\n",
    "\n",
    "Overhead: Creating and managing threads have some overhead, and switching between threads can introduce additional computational costs.\n",
    "\n",
    "Difficult to Debug: Multithreading bugs, such as race conditions, can be difficult to reproduce consistently and debug, making it challenging to ensure thread safety.\n",
    "\n",
    "Compatibility Issues: Some libraries or external modules might not be thread-safe, leading to potential issues when using them in a multithreaded environment.\n",
    "\n",
    "\n",
    "\n",
    "\n",
    "\n",
    "\n"
   ]
  },
  {
   "cell_type": "markdown",
   "id": "8f6a068d",
   "metadata": {},
   "source": [
    "Q6. Explain deadlocks and race conditions."
   ]
  },
  {
   "cell_type": "markdown",
   "id": "ac7fdc5a",
   "metadata": {},
   "source": [
    "A deadlock is a situation in concurrent programming where two or more threads are unable to proceed because each is waiting for the other to release a resource or complete a specific action. As a result, the threads become stuck in a cyclic waiting state, and none of them can make any progress.\n",
    "\n",
    "A race condition is a situation in concurrent programming where the behavior of a program depends on the relative timing of events, such as the order in which threads are scheduled to execute. It occurs when multiple threads access shared resources or data concurrently, and the outcome of the program becomes unpredictable or incorrect."
   ]
  },
  {
   "cell_type": "code",
   "execution_count": null,
   "id": "b302c146",
   "metadata": {},
   "outputs": [],
   "source": []
  }
 ],
 "metadata": {
  "kernelspec": {
   "display_name": "Python 3 (ipykernel)",
   "language": "python",
   "name": "python3"
  },
  "language_info": {
   "codemirror_mode": {
    "name": "ipython",
    "version": 3
   },
   "file_extension": ".py",
   "mimetype": "text/x-python",
   "name": "python",
   "nbconvert_exporter": "python",
   "pygments_lexer": "ipython3",
   "version": "3.9.13"
  }
 },
 "nbformat": 4,
 "nbformat_minor": 5
}
