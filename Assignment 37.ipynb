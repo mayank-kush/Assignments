{
 "cells": [
  {
   "cell_type": "markdown",
   "id": "44a38434",
   "metadata": {},
   "source": [
    "Q1. Explain the difference between simple linear regression and multiple linear regression. Provide an\n",
    "example of each.\n",
    "\n",
    "Simple Linear Regression:\n",
    "\n",
    "Simple linear regression is a statistical method used to model the relationship between two variables: one independent variable (predictor) and one dependent variable (outcome).\n",
    "It assumes a linear relationship between the variables, meaning that a change in the independent variable corresponds to a constant change in the dependent variable.\n",
    "The equation for simple linear regression is typically represented as: Y = a + bX, where Y is the dependent variable, X is the independent variable, a is the intercept, and b is the slope.\n",
    "Example: Predicting a person's weight (Y) based on their height (X).\n",
    "\n",
    "Multiple Linear Regression:\n",
    "\n",
    "Multiple linear regression is an extension of simple linear regression and is used to model the relationship between a dependent variable and multiple independent variables.\n",
    "It allows for the consideration of more complex relationships and multiple factors influencing the dependent variable.\n",
    "The equation for multiple linear regression is typically represented as: Y = a + b1X1 + b2X2 + ... + bnXn, where Y is the dependent variable, X1, X2, ..., Xn are the independent variables, a is the intercept, and b1, b2, ..., bn are the respective slopes for each independent variable.\n",
    "Example: Predicting a house's price (Y) based on its size (X1), the number of bedrooms (X2), and the neighborhood's crime rate (X3).\n",
    "\n"
   ]
  },
  {
   "cell_type": "markdown",
   "id": "00588510",
   "metadata": {},
   "source": [
    "Q2. Discuss the assumptions of linear regression. How can you check whether these assumptions hold in\n",
    "a given dataset?  \n",
    "\n",
    "Linearity: The relationship between the independent variables and the dependent variable should be linear. You can check this by creating scatterplots of the variables and looking for a roughly linear pattern.\n",
    "\n",
    "Independence: The errors (residuals) should be independent of each other, meaning that one observation's error should not be dependent on another's. You can check this using residual plots or time-series analysis, depending on your data.\n",
    "\n",
    "Homoscedasticity: The variance of the residuals should be constant across all levels of the independent variables. You can check this by plotting the residuals against the predicted values and looking for a consistent spread of points.\n",
    "\n",
    "Normality of Residuals: The residuals should follow a normal distribution. You can check this with a histogram or a Q-Q plot of the residuals and perform statistical tests like the Shapiro-Wilk test.\n",
    "\n",
    "No or Little Multicollinearity: Independent variables should not be highly correlated with each other. You can calculate correlation coefficients or use variance inflation factor (VIF) to assess multicollinearity.\n",
    "\n",
    "No Endogeneity: This assumes that the independent variables are not influenced by the error term. It's typically addressed through study design and theory.\n",
    "\n"
   ]
  },
  {
   "cell_type": "markdown",
   "id": "03ecd29e",
   "metadata": {},
   "source": [
    "Q3. How do you interpret the slope and intercept in a linear regression model? Provide an example using\n",
    "a real-world scenario.\n",
    "\n",
    "Intercept (a):\n",
    "\n",
    "The intercept (a) represents the predicted value of the dependent variable (Y) when the independent variable (X) is zero.\n",
    "It provides the starting point of the regression line.\n",
    "In many cases, the intercept may not have a meaningful real-world interpretation, as X rarely equals zero. It's often more relevant in an abstract mathematical sense.\n",
    "Slope (b):\n",
    "\n",
    "The slope (b) represents the change in the dependent variable (Y) for a one-unit change in the independent variable (X).\n",
    "It quantifies the rate of change in Y as X changes.\n",
    "A positive slope indicates a positive relationship (as X increases, Y increases), while a negative slope indicates a negative relationship (as X increases, Y decreases)."
   ]
  },
  {
   "cell_type": "markdown",
   "id": "4dc1bafb",
   "metadata": {},
   "source": [
    "Q4. Explain the concept of gradient descent. How is it used in machine learning?\n",
    "\n",
    "gradient decent is the slop between error and best fit line, it is used to find the global minima and minimise the error"
   ]
  },
  {
   "cell_type": "markdown",
   "id": "2f6f30b2",
   "metadata": {},
   "source": [
    "Q5. Describe the multiple linear regression model. How does it differ from simple linear regression?\n",
    "\n",
    "Multiple linear regression is a statistical model that extends simple linear regression to handle multiple independent variables.\n",
    "It models the relationship between a dependent variable (Y) and two or more independent variables (X1, X2, ..., Xn).\n",
    "The model equation is: Y = a + b1X1 + b2X2 + ... + bnXn, where a is the intercept, b1, b2, ..., bn are the slopes for each independent variable, and X1, X2, ..., Xn are the independent variables.\n",
    "It allows for the consideration of the combined effects of multiple independent variables on the dependent variable."
   ]
  },
  {
   "cell_type": "markdown",
   "id": "f2f3c600",
   "metadata": {},
   "source": [
    "Q6. Explain the concept of multicollinearity in multiple linear regression. How can you detect and\n",
    "address this issue?\n",
    "\n",
    "Multicollinearity in multiple linear regression refers to the situation where two or more independent variables in the model are highly correlated with each other. This can cause problems in regression analysis, as it makes it challenging to distinguish the individual effects of each independent variable on the dependent variable."
   ]
  },
  {
   "cell_type": "markdown",
   "id": "817985ac",
   "metadata": {},
   "source": [
    "Q7. Describe the polynomial regression model. How is it different from linear regression?\n",
    "\n",
    "Polynomial Regression is a type of regression analysis used to model the relationship between a dependent variable (Y) and one or more independent variables (X) by fitting a polynomial equation to the data. Unlike simple linear regression, which assumes a linear relationship between the variables, polynomial regression allows for more complex, nonlinear relationships to be captured"
   ]
  },
  {
   "cell_type": "markdown",
   "id": "7c603b43",
   "metadata": {},
   "source": [
    "Q8. What are the advantages and disadvantages of polynomial regression compared to linear\n",
    "regression? In what situations would you prefer to use polynomial regression?\n",
    "\n",
    "\n",
    "Advantages of Polynomial Regression:\n",
    "\n",
    "Flexibility: Polynomial regression can capture nonlinear relationships between variables, making it more suitable for data with curvilinear patterns.\n",
    "Improved Fit: It can provide a better fit to the data compared to linear regression when the true relationship is not linear.\n",
    "Increased Model Accuracy: When used appropriately, polynomial regression can yield higher accuracy and lower residual errors.\n",
    "Disadvantages of Polynomial Regression:\n",
    "\n",
    "Overfitting: It is prone to overfitting, especially with high-degree polynomials, where the model fits the training data very closely but may not generalize well to new data.\n",
    "Complexity: Higher-degree polynomials introduce complexity and make the model harder to interpret.\n",
    "Data Sensitivity: The choice of the polynomial degree can significantly impact the results, and selecting the wrong degree may lead to poor model performance."
   ]
  },
  {
   "cell_type": "code",
   "execution_count": null,
   "id": "60ab1b12",
   "metadata": {},
   "outputs": [],
   "source": []
  }
 ],
 "metadata": {
  "kernelspec": {
   "display_name": "Python 3 (ipykernel)",
   "language": "python",
   "name": "python3"
  },
  "language_info": {
   "codemirror_mode": {
    "name": "ipython",
    "version": 3
   },
   "file_extension": ".py",
   "mimetype": "text/x-python",
   "name": "python",
   "nbconvert_exporter": "python",
   "pygments_lexer": "ipython3",
   "version": "3.9.13"
  }
 },
 "nbformat": 4,
 "nbformat_minor": 5
}
