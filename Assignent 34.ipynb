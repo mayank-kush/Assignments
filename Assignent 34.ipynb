{
 "cells": [
  {
   "cell_type": "markdown",
   "id": "b59f760d",
   "metadata": {},
   "source": [
    "Q1. Pearson correlation coefficient is a measure of the linear relationship between two variables. Suppose\n",
    "you have collected data on the amount of time students spend studying for an exam and their final exam\n",
    "scores. Calculate the Pearson correlation coefficient between these two variables and interpret the result.\n"
   ]
  },
  {
   "cell_type": "code",
   "execution_count": 1,
   "id": "4791ae45",
   "metadata": {},
   "outputs": [
    {
     "name": "stdout",
     "output_type": "stream",
     "text": [
      "Pearson Correlation Coefficient (r): 0.95\n",
      "P-Value: 0.00\n"
     ]
    }
   ],
   "source": [
    "import numpy as np\n",
    "from scipy.stats import pearsonr\n",
    "study_time = [10, 8, 5, 12, 7, 15, 6, 9]\n",
    "exam_scores = [85, 78, 62, 90, 70, 92, 68, 80]\n",
    "r, p_value = pearsonr(study_time, exam_scores)\n",
    "\n",
    "print(f\"Pearson Correlation Coefficient (r): {r:.2f}\")\n",
    "print(f\"P-Value: {p_value:.2f}\")\n"
   ]
  },
  {
   "cell_type": "markdown",
   "id": "3e420c38",
   "metadata": {},
   "source": [
    "Q2. Spearman's rank correlation is a measure of the monotonic relationship between two variables.\n",
    "Suppose you have collected data on the amount of sleep individuals get each night and their overall job\n",
    "satisfaction level on a scale of 1 to 10. Calculate the Spearman's rank correlation between these two\n",
    "variables and interpret the result.\n",
    "\n"
   ]
  },
  {
   "cell_type": "code",
   "execution_count": 2,
   "id": "87408124",
   "metadata": {},
   "outputs": [
    {
     "name": "stdout",
     "output_type": "stream",
     "text": [
      "Spearman's Rank Correlation (rho): 0.91\n",
      "P-Value: 0.00\n"
     ]
    }
   ],
   "source": [
    "from scipy.stats import spearmanr\n",
    "sleep = [7, 6, 8, 5, 6, 7, 9, 6, 5, 8]\n",
    "job_satisfaction = [8, 6, 9, 5, 7, 8, 9, 6, 5, 7]\n",
    "rho, p_value = spearmanr(sleep, job_satisfaction)\n",
    "\n",
    "print(f\"Spearman's Rank Correlation (rho): {rho:.2f}\")\n",
    "print(f\"P-Value: {p_value:.2f}\")\n"
   ]
  },
  {
   "cell_type": "markdown",
   "id": "46c8de7e",
   "metadata": {},
   "source": [
    "Q3. Suppose you are conducting a study to examine the relationship between the number of hours of\n",
    "exercise per week and body mass index (BMI) in a sample of adults. You collected data on both variables\n",
    "for 50 participants. Calculate the Pearson correlation coefficient and the Spearman's rank correlation\n",
    "between these two variables and compare the results.\n",
    "\n"
   ]
  },
  {
   "cell_type": "code",
   "execution_count": 3,
   "id": "8f2e4aca",
   "metadata": {},
   "outputs": [
    {
     "name": "stdout",
     "output_type": "stream",
     "text": [
      "Pearson Correlation Coefficient: 0.98\n",
      "Pearson P-Value: 0.00\n",
      "Spearman's Rank Correlation: 0.99\n",
      "Spearman P-Value: 0.00\n"
     ]
    }
   ],
   "source": [
    "\n",
    "exercise_hours = [2, 4, 3, 1, 5, 2, 6, 4, 3, 2, 5, 1, 3, 4, 2, 5, 3, 4, 1, 6, 2, 3, 5, 4, 2, 1, 3, 2, 4, 6, 5, 3, 2, 4, 1, 5, 3, 4, 2, 6, 3, 1, 4, 5, 2, 3, 4, 6]\n",
    "bmi = [25, 30, 28, 24, 32, 26, 34, 29, 27, 25, 33, 24, 28, 30, 26, 31, 28, 29, 23, 35, 27, 29, 32, 30, 25, 23, 28, 26, 30, 35, 31, 28, 25, 29, 23, 33, 28, 30, 26, 34, 28, 24, 30, 32, 25, 28, 29, 36]\n",
    "\n",
    "pearson_corr, pearson_p_value = pearsonr(exercise_hours, bmi)\n",
    "\n",
    "spearman_corr, spearman_p_value = spearmanr(exercise_hours, bmi)\n",
    "\n",
    "print(f\"Pearson Correlation Coefficient: {pearson_corr:.2f}\")\n",
    "print(f\"Pearson P-Value: {pearson_p_value:.2f}\")\n",
    "\n",
    "print(f\"Spearman's Rank Correlation: {spearman_corr:.2f}\")\n",
    "print(f\"Spearman P-Value: {spearman_p_value:.2f}\")\n"
   ]
  },
  {
   "cell_type": "markdown",
   "id": "89589965",
   "metadata": {},
   "source": [
    "Q4. A researcher is interested in examining the relationship between the number of hours individuals\n",
    "spend watching television per day and their level of physical activity. The researcher collected data on\n",
    "both variables from a sample of 50 participants. Calculate the Pearson correlation coefficient between\n",
    "these two variables."
   ]
  },
  {
   "cell_type": "code",
   "execution_count": 4,
   "id": "49c983a4",
   "metadata": {},
   "outputs": [
    {
     "name": "stdout",
     "output_type": "stream",
     "text": [
      "Pearson Correlation Coefficient: 1.00\n",
      "P-Value: 0.00\n"
     ]
    }
   ],
   "source": [
    "\n",
    "tv_hours_per_day = [2, 4, 3, 5, 1, 2, 1, 3, 4, 5, 6, 3, 2, 4, 1, 2, 3, 2, 1, 5, 6, 2, 4, 5, 3, 1, 3, 2, 4, 6, 5, 4, 2, 1, 3, 4, 5, 2, 1, 6, 3, 4, 2, 5, 3, 1, 4]\n",
    "physical_activity_level = [3, 5, 4, 6, 2, 3, 2, 4, 5, 6, 7, 4, 3, 5, 2, 3, 4, 3, 2, 6, 7, 3, 5, 6, 4, 2, 4, 3, 5, 7, 6, 5, 3, 2, 4, 5, 6, 3, 2, 7, 4, 5, 3, 6, 4, 2, 5]\n",
    "\n",
    "pearson_corr, p_value = pearsonr(tv_hours_per_day, physical_activity_level)\n",
    "\n",
    "print(f\"Pearson Correlation Coefficient: {pearson_corr:.2f}\")\n",
    "print(f\"P-Value: {p_value:.2f}\")\n"
   ]
  },
  {
   "cell_type": "markdown",
   "id": "94fc9694",
   "metadata": {},
   "source": [
    "Q6. A company is interested in examining the relationship between the number of sales calls made per day\n",
    "and the number of sales made per week. The company collected data on both variables from a sample of\n",
    "30 sales representatives. Calculate the Pearson correlation coefficient between these two variables."
   ]
  },
  {
   "cell_type": "code",
   "execution_count": 5,
   "id": "0d3f7159",
   "metadata": {},
   "outputs": [
    {
     "name": "stdout",
     "output_type": "stream",
     "text": [
      "Pearson Correlation Coefficient: 0.97\n",
      "P-Value: 0.00\n"
     ]
    }
   ],
   "source": [
    "\n",
    "sales_calls_per_day = [20, 25, 15, 18, 22, 17, 19, 21, 24, 23, 16, 26, 20, 19, 22, 25, 18, 17, 23, 21, 19, 24, 27, 15, 20, 26, 22, 21, 18, 24]\n",
    "sales_per_week = [5, 7, 4, 5, 6, 4, 5, 6, 7, 6, 4, 8, 5, 5, 6, 7, 4, 4, 7, 6, 5, 7, 8, 4, 6, 8, 6, 6, 4, 7]\n",
    "pearson_corr, p_value = pearsonr(sales_calls_per_day, sales_per_week)\n",
    "print(f\"Pearson Correlation Coefficient: {pearson_corr:.2f}\")\n",
    "print(f\"P-Value: {p_value:.2f}\")\n"
   ]
  },
  {
   "cell_type": "code",
   "execution_count": null,
   "id": "b15bff0d",
   "metadata": {},
   "outputs": [],
   "source": []
  }
 ],
 "metadata": {
  "kernelspec": {
   "display_name": "Python 3 (ipykernel)",
   "language": "python",
   "name": "python3"
  },
  "language_info": {
   "codemirror_mode": {
    "name": "ipython",
    "version": 3
   },
   "file_extension": ".py",
   "mimetype": "text/x-python",
   "name": "python",
   "nbconvert_exporter": "python",
   "pygments_lexer": "ipython3",
   "version": "3.9.13"
  }
 },
 "nbformat": 4,
 "nbformat_minor": 5
}
