{
 "cells": [
  {
   "cell_type": "markdown",
   "id": "f91b7ae8",
   "metadata": {},
   "source": [
    "Q1. Explain Class and Object with respect to Object-Oriented Programming. Give a suitable example."
   ]
  },
  {
   "cell_type": "markdown",
   "id": "0b052858",
   "metadata": {},
   "source": [
    "Ans : A class is a blueprint or a template that defines the structure and behavior of objects. It serves as a blueprint for creating objects, specifying what data (attributes or properties) and methods (functions or operations) the objects will have. Classes act as user-defined data types, encapsulating data and functionality into a single unit.\n",
    "\n",
    "An object is an instance of a class—a concrete representation of the class blueprint. It is a runtime entity that holds its own unique data (values for attributes) and can perform actions (invoke methods) defined in the class. When you create an object, it occupies memory space, and you can interact with it by accessing its attributes and invoking its methods."
   ]
  },
  {
   "cell_type": "code",
   "execution_count": 1,
   "id": "529d75de",
   "metadata": {},
   "outputs": [
    {
     "data": {
      "text/plain": [
       "'innova'"
      ]
     },
     "execution_count": 1,
     "metadata": {},
     "output_type": "execute_result"
    }
   ],
   "source": [
    "class vehicle:\n",
    "    def car_name(self,name_of_car):\n",
    "        return name_of_car\n",
    "    \n",
    "a=vehicle()\n",
    "a.car_name(\"innova\")"
   ]
  },
  {
   "cell_type": "markdown",
   "id": "a803a059",
   "metadata": {},
   "source": [
    "Q2. Name the four pillars of OOPs."
   ]
  },
  {
   "cell_type": "markdown",
   "id": "2da017c3",
   "metadata": {},
   "source": [
    "Ans : \n",
    "1. Encapsulation: Encapsulation is the concept of bundling data (attributes) and the methods (functions) that operate on that data within a single unit, typically called a class. It allows you to control access to the internal state of an object, hiding implementation details and exposing only necessary interfaces to interact with the object.\n",
    "\n",
    "2. Abstraction: Abstraction is the process of simplifying complex reality by modeling classes based on relevant characteristics and behaviors. It allows you to create a blueprint (class) that defines the structure and behavior of objects without getting into the specific implementation details.\n",
    "\n",
    "3. Inheritance: Inheritance is a mechanism that allows a class (subclass or derived class) to inherit properties and behaviors from another class (superclass or base class). It promotes code reusability and allows you to create a hierarchy of classes with shared characteristics and specialized features.\n",
    "\n",
    "4. Polymorphism: Polymorphism allows objects of different classes to be treated as objects of a common superclass. It enables a single interface to represent different data types or objects and allows you to create code that can work with objects of multiple types in a generic way. Polymorphism can be achieved through method overloading and method overriding."
   ]
  },
  {
   "cell_type": "markdown",
   "id": "cbdb96fb",
   "metadata": {},
   "source": [
    "Q3. Explain why the __ init__() function is used. Give a suitable example."
   ]
  },
  {
   "cell_type": "markdown",
   "id": "4dbd9000",
   "metadata": {},
   "source": [
    "The __init__() function is a special method in Python that is automatically called when you create an instance (object) of a class. It is known as the constructor method and is used to initialize the object's attributes."
   ]
  },
  {
   "cell_type": "code",
   "execution_count": 5,
   "id": "4a2ab4e9",
   "metadata": {},
   "outputs": [
    {
     "data": {
      "text/plain": [
       "('innova', 'Toyota', 2019)"
      ]
     },
     "execution_count": 5,
     "metadata": {},
     "output_type": "execute_result"
    }
   ],
   "source": [
    "class vehicle1:\n",
    "    def __init__(self,brand,year):\n",
    "        self.brand=brand\n",
    "        self.year=year\n",
    "    def car_name(self,name_of_car):\n",
    "        return name_of_car, self.brand , self.year\n",
    "    \n",
    "a=vehicle1(\"Toyota\",2019)\n",
    "a.car_name(\"innova\")"
   ]
  },
  {
   "cell_type": "markdown",
   "id": "7b48b83f",
   "metadata": {},
   "source": [
    "Q4. Why self is used in OOPs?"
   ]
  },
  {
   "cell_type": "markdown",
   "id": "6761ee73",
   "metadata": {},
   "source": [
    "Ans : \"self\" is a special keyword that refers to the instance of the class itself."
   ]
  },
  {
   "cell_type": "markdown",
   "id": "e65c3445",
   "metadata": {},
   "source": [
    "Q5. What is inheritance? Give an example for each type of inheritance."
   ]
  },
  {
   "cell_type": "markdown",
   "id": "8dbbf8e4",
   "metadata": {},
   "source": [
    "Ans : Inheritance is a fundamental concept in OOP that allows a class to inherit properties and behaviors from another class . Inheritance promotes code reuse and allows you to create a hierarchy of classes, where subclasses can extend and specialize the functionality of their parent classes.\n",
    "\n",
    "There are several types of inheritance in Python:"
   ]
  },
  {
   "cell_type": "markdown",
   "id": "ff7c085e",
   "metadata": {},
   "source": [
    "Single Inheritance:\n",
    "Single inheritance involves a subclass inheriting from a single base class. It is the most common type of inheritance."
   ]
  },
  {
   "cell_type": "code",
   "execution_count": 7,
   "id": "e0f40e80",
   "metadata": {},
   "outputs": [
    {
     "name": "stdout",
     "output_type": "stream",
     "text": [
      "Buddy\n",
      "Woof!\n"
     ]
    }
   ],
   "source": [
    "class Animal:\n",
    "    def __init__(self, name):\n",
    "        self.name = name\n",
    "\n",
    "    def make_sound(self):\n",
    "        pass\n",
    "\n",
    "class Dog(Animal):\n",
    "    def make_sound(self):\n",
    "        return \"Woof!\"\n",
    "\n",
    "\n",
    "dog = Dog(\"Buddy\")\n",
    "print(dog.name)         \n",
    "print(dog.make_sound())"
   ]
  },
  {
   "cell_type": "markdown",
   "id": "d92e7619",
   "metadata": {},
   "source": [
    "Multiple Inheritance:\n",
    "Multiple inheritance involves a subclass inheriting from multiple base classes."
   ]
  },
  {
   "cell_type": "code",
   "execution_count": 8,
   "id": "679ef16c",
   "metadata": {},
   "outputs": [
    {
     "name": "stdout",
     "output_type": "stream",
     "text": [
      "Swimming...\n",
      "Flying...\n"
     ]
    }
   ],
   "source": [
    "class Swimmer:\n",
    "    def swim(self):\n",
    "        return \"Swimming...\"\n",
    "\n",
    "class Flyer:\n",
    "    def fly(self):\n",
    "        return \"Flying...\"\n",
    "\n",
    "class Duck(Swimmer, Flyer):\n",
    "    pass\n",
    "\n",
    "\n",
    "duck = Duck()\n",
    "print(duck.swim()) \n",
    "print(duck.fly()) "
   ]
  },
  {
   "cell_type": "markdown",
   "id": "a8d1e4ea",
   "metadata": {},
   "source": [
    "Multi-level Inheritance:\n",
    "Multi-level inheritance involves a subclass inheriting from another subclass, creating a chain of inheritance."
   ]
  },
  {
   "cell_type": "code",
   "execution_count": 9,
   "id": "d01a6755",
   "metadata": {},
   "outputs": [
    {
     "name": "stdout",
     "output_type": "stream",
     "text": [
      "Starting vehicle...\n",
      "Driving car...\n",
      "Charging electric car...\n"
     ]
    }
   ],
   "source": [
    "class Vehicle:\n",
    "    def start(self):\n",
    "        return \"Starting vehicle...\"\n",
    "\n",
    "class Car(Vehicle):\n",
    "    def drive(self):\n",
    "        return \"Driving car...\"\n",
    "\n",
    "class ElectricCar(Car):\n",
    "    def charge(self):\n",
    "        return \"Charging electric car...\"\n",
    "\n",
    "\n",
    "electric_car = ElectricCar()\n",
    "print(electric_car.start()) \n",
    "print(electric_car.drive()) \n",
    "print(electric_car.charge())"
   ]
  },
  {
   "cell_type": "markdown",
   "id": "e3294715",
   "metadata": {},
   "source": [
    "Hierarchical Inheritance:\n",
    "Hierarchical inheritance involves multiple subclasses inheriting from the same base class."
   ]
  },
  {
   "cell_type": "code",
   "execution_count": 11,
   "id": "69af9776",
   "metadata": {},
   "outputs": [
    {
     "name": "stdout",
     "output_type": "stream",
     "text": [
      "78.5\n",
      "16\n"
     ]
    }
   ],
   "source": [
    "class Shape:\n",
    "    def area(self):\n",
    "        return 0\n",
    "\n",
    "class Circle(Shape):\n",
    "    def __init__(self, radius):\n",
    "        self.radius = radius\n",
    "\n",
    "    def area(self):\n",
    "        return 3.14 * self.radius * self.radius\n",
    "\n",
    "class Square(Shape):\n",
    "    def __init__(self, side):\n",
    "        self.side = side\n",
    "\n",
    "    def area(self):\n",
    "        return self.side * self.side\n",
    "\n",
    "\n",
    "circle = Circle(5)\n",
    "square = Square(4)\n",
    "print(circle.area()) \n",
    "print(square.area()) "
   ]
  },
  {
   "cell_type": "code",
   "execution_count": null,
   "id": "6d216c0f",
   "metadata": {},
   "outputs": [],
   "source": []
  }
 ],
 "metadata": {
  "kernelspec": {
   "display_name": "Python 3 (ipykernel)",
   "language": "python",
   "name": "python3"
  },
  "language_info": {
   "codemirror_mode": {
    "name": "ipython",
    "version": 3
   },
   "file_extension": ".py",
   "mimetype": "text/x-python",
   "name": "python",
   "nbconvert_exporter": "python",
   "pygments_lexer": "ipython3",
   "version": "3.9.13"
  }
 },
 "nbformat": 4,
 "nbformat_minor": 5
}
