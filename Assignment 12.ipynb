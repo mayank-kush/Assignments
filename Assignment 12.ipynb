{
 "cells": [
  {
   "cell_type": "markdown",
   "id": "cf5206ba",
   "metadata": {},
   "source": [
    "Q1. What is a database? Differentiate between SQL and NoSQL databases."
   ]
  },
  {
   "cell_type": "markdown",
   "id": "7c10519a",
   "metadata": {},
   "source": [
    " A database is a structured collection of data that is organized and stored in a way that allows for efficient retrieval, management, and manipulation of information.\n",
    " \n",
    " SQL (Structured Query Language) databases are based on the relational model. They use tables to store data, where each row represents a record and each column represents a data field. Some popular SQL databases include MySQL, PostgreSQL, Oracle, and Microsoft SQL Server.\n",
    " \n",
    " WHERE AS \n",
    " \n",
    " NoSQL (Not Only SQL) databases are a broad category of databases that offer flexible data models and are generally designed for horizontal scalability and high availability. "
   ]
  },
  {
   "cell_type": "markdown",
   "id": "60909841",
   "metadata": {},
   "source": [
    "Q2. What is DDL? Explain why CREATE, DROP, ALTER, and TRUNCATE are used with an example."
   ]
  },
  {
   "cell_type": "markdown",
   "id": "45935cd5",
   "metadata": {},
   "source": [
    "DDL stands for Data Definition Language. It is a subset of SQL (Structured Query Language) used to define and manage the structure of a database, including creating, modifying, and deleting database objects like tables, indexes, and constraints.\n",
    "\n",
    "CREATE:\n",
    "The CREATE statement is used to create new database objects such as tables, indexes, or views. \n",
    "\n",
    "DROP:\n",
    "The DROP statement is used to remove existing database objects such as tables, indexes, or views. Be cautious when using DROP, as it permanently deletes the object and its data. \n",
    "\n",
    "ALTER:\n",
    "The ALTER statement is used to modify the structure of an existing database object. It allows you to add, modify, or delete columns from a table, change data types, or add constraints.\n",
    "\n",
    "TRUNCATE:\n",
    "The TRUNCATE statement is used to remove all data from a table, but unlike DROP, it does not delete the table structure itself. It is a faster and more efficient way to delete all records from a table when compared to using DELETE with no WHERE clause."
   ]
  },
  {
   "cell_type": "markdown",
   "id": "76abed9e",
   "metadata": {},
   "source": [
    "Q3. What is DML? Explain INSERT, UPDATE, and DELETE with an example."
   ]
  },
  {
   "cell_type": "markdown",
   "id": "8f00e017",
   "metadata": {},
   "source": [
    "DML stand for data manipulation language, it is a subset of the SQL, it mainly focuses on add , delete or alteration f data within the table itself.\n",
    "\n",
    "INSERT:\n",
    "The INSERT statement is used to add new records (rows) into a table. It allows you to specify the values for each column or insert data from another table.\n",
    "\n",
    "UPDATE:\n",
    "The UPDATE statement is used to modify existing records within a table. It allows you to change the values of specific columns based on certain conditions.\n",
    "\n",
    "DELETE:\n",
    "The DELETE statement is used to remove one or more records from a table based on specified conditions. Be cautious when using DELETE, as it permanently removes data from the table."
   ]
  },
  {
   "cell_type": "markdown",
   "id": "548329eb",
   "metadata": {},
   "source": [
    "Q4. What is DQL? Explain SELECT with an example."
   ]
  },
  {
   "cell_type": "markdown",
   "id": "9bc7afff",
   "metadata": {},
   "source": [
    "DQL stands for Data Query Language. It is a subset of SQL (Structured Query Language) used to retrieve and manipulate data from a database. DQL focuses on the SELECT statement, which allows you to query the database and fetch specific information based on specified criteria.\n",
    "\n",
    "The SELECT query is basically used for selection of specific data , it can be used in many ways as per the need of the data to be selcted, we can select and show the entier data or we can select and show it coloumn wise."
   ]
  },
  {
   "cell_type": "markdown",
   "id": "06a1da91",
   "metadata": {},
   "source": [
    "Q5. Explain Primary Key and Foreign Key."
   ]
  },
  {
   "cell_type": "markdown",
   "id": "3271159a",
   "metadata": {},
   "source": [
    "A Primary Key is a column or a combination of columns in a table that uniquely identifies each row (record) in that table. It serves as a unique identifier for each record, and no two records can have the same primary key value within the table.\n",
    "\n",
    "A Foreign Key is a column or a combination of columns in a table that establishes a link between data in two tables. It represents a relationship between two tables, where the foreign key in one table refers to the primary key of another table."
   ]
  },
  {
   "cell_type": "markdown",
   "id": "ab5cf668",
   "metadata": {},
   "source": [
    "Q6. Write a python code to connect MySQL to python. Explain the cursor() and execute() method."
   ]
  },
  {
   "cell_type": "code",
   "execution_count": null,
   "id": "c8a993f3",
   "metadata": {},
   "outputs": [],
   "source": [
    "import mysql.connector\n",
    "\n",
    "# Connect to MySQL\n",
    "connection = mysql.connector.connect(\n",
    "    host=\"your_host\",\n",
    "    user=\"your_username\",\n",
    "    password=\"your_password\",\n",
    "    database=\"your_database\"\n",
    ")\n",
    "\n",
    "# Create a cursor object\n",
    "cursor = connection.cursor()\n",
    "\n",
    "# Execute a query\n",
    "query = \"SELECT * FROM your_table;\"\n",
    "cursor.execute(query)\n",
    "\n",
    "# Fetch and print the results\n",
    "result = cursor.fetchall()\n",
    "for row in result:\n",
    "    print(row)\n",
    "\n",
    "# Close the cursor and connection\n",
    "cursor.close()\n",
    "connection.close()"
   ]
  },
  {
   "cell_type": "markdown",
   "id": "97c41c2a",
   "metadata": {},
   "source": [
    "cursor():\n",
    "\n",
    "The cursor() method creates a cursor object that allows you to interact with the MySQL database.\n",
    "\n",
    "execute():\n",
    "\n",
    "The execute() method is used to execute SQL queries or statements on the database through the cursor object."
   ]
  },
  {
   "cell_type": "markdown",
   "id": "6e8db479",
   "metadata": {},
   "source": [
    "Q7. Give the order of execution of SQL clauses in an SQL query."
   ]
  },
  {
   "cell_type": "markdown",
   "id": "4fc35741",
   "metadata": {},
   "source": [
    "SELECT: The SELECT clause is used to specify which columns you want to retrieve from the database.\n",
    "\n",
    "FROM: The FROM clause indicates the table or tables from which the data should be retrieved. It establishes the data source for the query.\n",
    "\n",
    "WHERE: The WHERE clause is used to filter the rows based on specified conditions. It allows you to narrow down the data to only include rows that meet the given criteria.\n",
    "\n",
    "GROUP BY: The GROUP BY clause is used to group rows based on specified columns. It is often used in combination with aggregate functions like COUNT, SUM, AVG, etc.\n",
    "\n",
    "HAVING: The HAVING clause filters the grouped rows based on aggregate conditions. It is similar to the WHERE clause but is used with GROUP BY to filter aggregated results.\n",
    "\n",
    "ORDER BY: The ORDER BY clause is used to sort the result set based on specified columns. It allows you to control the order in which the rows are returned.\n",
    "\n",
    "LIMIT/OFFSET: The LIMIT clause (sometimes used with OFFSET) is used to restrict the number of rows returned in the result set. It is often used for pagination or to limit the query result to a specific number of rows."
   ]
  },
  {
   "cell_type": "code",
   "execution_count": null,
   "id": "e88aae74",
   "metadata": {},
   "outputs": [],
   "source": []
  }
 ],
 "metadata": {
  "kernelspec": {
   "display_name": "Python 3 (ipykernel)",
   "language": "python",
   "name": "python3"
  },
  "language_info": {
   "codemirror_mode": {
    "name": "ipython",
    "version": 3
   },
   "file_extension": ".py",
   "mimetype": "text/x-python",
   "name": "python",
   "nbconvert_exporter": "python",
   "pygments_lexer": "ipython3",
   "version": "3.9.13"
  }
 },
 "nbformat": 4,
 "nbformat_minor": 5
}
