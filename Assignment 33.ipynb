{
 "cells": [
  {
   "cell_type": "markdown",
   "id": "0d37fb1d",
   "metadata": {},
   "source": [
    "Q1. What is the difference between Ordinal Encoding and Label Encoding? Provide an example of when you\n",
    "might choose one over the other.\n",
    "\n",
    "Ordinal Encoding and Label Encoding are both techniques used to convert categorical data into numerical form, but they differ in their application:\n",
    "\n",
    "Ordinal Encoding:\n",
    "\n",
    "Assigns numerical values to categories based on their predefined order or rank.\n",
    "Suitable for ordinal categorical variables, where categories have a meaningful order.\n",
    "Example: Education level with categories \"High School\" < \"Bachelor's\" < \"Master's\" < \"Ph.D\" can be encoded as 1, 2, 3, 4, respectively.\n",
    "Label Encoding:\n",
    "\n",
    "Assigns unique numerical labels to each category without considering their order.\n",
    "Suitable for nominal categorical variables, where categories have no inherent order.\n",
    "Example: Colors with categories \"Red,\" \"Green,\" and \"Blue\" can be encoded as 1, 2, 3, or \"Male\" and \"Female\" encoded as 0, 1."
   ]
  },
  {
   "cell_type": "markdown",
   "id": "425cf2e4",
   "metadata": {},
   "source": [
    "Q2. Explain how Target Guided Ordinal Encoding works and provide an example of when you might use it in\n",
    "a machine learning project.\n",
    "\n",
    "Target Guided Ordinal Encoding is a technique used to convert categorical variables into ordinal numerical values based on their relationship with the target variable. This method is especially useful when you want to leverage the predictive power of a categorical variable with respect to the target variable.\n",
    "\n",
    "Here's how Target Guided Ordinal Encoding works:\n",
    "\n",
    "Calculate Mean or Median Target Value: For each category within the categorical variable, calculate the mean (or median) of the target variable (usually a binary outcome like 0 or 1). This provides a measure of how often each category leads to the positive class.\n",
    "\n",
    "Order Categories: Order the categories based on their mean (or median) target value. Categories with higher means are given higher ordinal values, while those with lower means are assigned lower values.\n",
    "\n",
    "Assign Ordinal Values: Replace the original categories with the calculated ordinal values. The variable is now ordinal, and the categories are ranked based on their predictive power regarding the target variable."
   ]
  },
  {
   "cell_type": "markdown",
   "id": "8aaa2e7a",
   "metadata": {},
   "source": [
    "Q3. Define covariance and explain why it is important in statistical analysis. How is covariance calculated?\n",
    "\n",
    "\n",
    "Covariance is a statistical measure that quantifies the degree to which two random variables change together. It indicates whether an increase in one variable corresponds to an increase or decrease in another. Specifically:\n",
    "\n",
    "If the covariance is positive, it suggests that the two variables tend to increase or decrease together.\n",
    "If the covariance is negative, it indicates that one variable tends to increase when the other decreases.\n",
    "If the covariance is close to zero, it implies that there is little to no linear relationship between the variables."
   ]
  },
  {
   "cell_type": "markdown",
   "id": "06df1986",
   "metadata": {},
   "source": [
    "Q4. For a dataset with the following categorical variables: Color (red, green, blue), Size (small, medium,\n",
    "large), and Material (wood, metal, plastic), perform label encoding using Python's scikit-learn library.\n",
    "Show your code and explain the output.\n",
    "\n"
   ]
  },
  {
   "cell_type": "code",
   "execution_count": 1,
   "id": "80a2fb6a",
   "metadata": {},
   "outputs": [
    {
     "name": "stdout",
     "output_type": "stream",
     "text": [
      "   Color  Size  Material\n",
      "0      2     2         2\n",
      "1      1     1         0\n",
      "2      0     0         1\n",
      "3      2     2         2\n"
     ]
    }
   ],
   "source": [
    "import pandas as pd\n",
    "from sklearn.preprocessing import LabelEncoder\n",
    "data = {'Color': ['red', 'green', 'blue', 'red'],\n",
    "        'Size': ['small', 'medium', 'large', 'small'],\n",
    "        'Material': ['wood', 'metal', 'plastic', 'wood']}\n",
    "df = pd.DataFrame(data)\n",
    "label_encoders = {}\n",
    "for column in df.columns:\n",
    "    label_encoders[column] = LabelEncoder()\n",
    "    df[column] = label_encoders[column].fit_transform(df[column])\n",
    "print(df)\n"
   ]
  },
  {
   "cell_type": "markdown",
   "id": "c8b2c47b",
   "metadata": {},
   "source": [
    "Q5. Calculate the covariance matrix for the following variables in a dataset: Age, Income, and Education\n",
    "level. Interpret the results.\n"
   ]
  },
  {
   "cell_type": "code",
   "execution_count": 2,
   "id": "36e4c270",
   "metadata": {},
   "outputs": [
    {
     "name": "stdout",
     "output_type": "stream",
     "text": [
      "                     Age       Income  EducationLevel\n",
      "Age                61.30      77250.0           11.15\n",
      "Income          77250.00  107500000.0        14250.00\n",
      "EducationLevel     11.15      14250.0            2.20\n"
     ]
    }
   ],
   "source": [
    "\n",
    "data = {\n",
    "    'Age': [30, 45, 25, 35, 28],\n",
    "    'Income': [60000, 75000, 50000, 70000, 55000],\n",
    "    'EducationLevel': [16, 18, 14, 16, 15]\n",
    "}\n",
    "df = pd.DataFrame(data)\n",
    "cov_matrix = df.cov()\n",
    "\n",
    "print(cov_matrix)\n"
   ]
  },
  {
   "cell_type": "markdown",
   "id": "4b9ad1a5",
   "metadata": {},
   "source": [
    "Q6. You are working on a machine learning project with a dataset containing several categorical\n",
    "variables, including \"Gender\" (Male/Female), \"Education Level\" (High School/Bachelor's/Master's/PhD),\n",
    "and \"Employment Status\" (Unemployed/Part-Time/Full-Time). Which encoding method would you use for\n",
    "each variable, and why?\n",
    "\n",
    "we would use the lable encoding as it can deal with categorical features"
   ]
  },
  {
   "cell_type": "markdown",
   "id": "761788e9",
   "metadata": {},
   "source": [
    "Q7. You are analyzing a dataset with two continuous variables, \"Temperature\" and \"Humidity\", and two\n",
    "categorical variables, \"Weather Condition\" (Sunny/Cloudy/Rainy) and \"Wind Direction\" (North/South/\n",
    "East/West). Calculate the covariance between each pair of variables and interpret the results.\n",
    "\n"
   ]
  }
 ],
 "metadata": {
  "kernelspec": {
   "display_name": "Python 3 (ipykernel)",
   "language": "python",
   "name": "python3"
  },
  "language_info": {
   "codemirror_mode": {
    "name": "ipython",
    "version": 3
   },
   "file_extension": ".py",
   "mimetype": "text/x-python",
   "name": "python",
   "nbconvert_exporter": "python",
   "pygments_lexer": "ipython3",
   "version": "3.9.13"
  }
 },
 "nbformat": 4,
 "nbformat_minor": 5
}
