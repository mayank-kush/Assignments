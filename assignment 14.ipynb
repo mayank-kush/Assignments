{
 "cells": [
  {
   "cell_type": "markdown",
   "id": "9f505afa",
   "metadata": {},
   "source": [
    "Q1. What is an API? Give an example, where an API is used in real life."
   ]
  },
  {
   "cell_type": "markdown",
   "id": "fb19b92c",
   "metadata": {},
   "source": [
    "API stands for application programming interface , it is a medium to communicate between server and tha client\n",
    "\n",
    "these are used in various feilds in real life for ex:- social media , e commerce ,  maps and navigation."
   ]
  },
  {
   "cell_type": "markdown",
   "id": "67b28661",
   "metadata": {},
   "source": [
    "Q2. Give advantages and disadvantages of using API."
   ]
  },
  {
   "cell_type": "markdown",
   "id": "855167f0",
   "metadata": {},
   "source": [
    "Advantages of Using APIs:\n",
    "\n",
    "Interoperability\n",
    "\n",
    "Time and Cost Savings\n",
    "\n",
    "Rapid Development\n",
    "\n",
    "Disadvantages of Using APIs:\n",
    "\n",
    "Dependency\n",
    "\n",
    "Security Concerns\n",
    "\n",
    "Versioning Challenges"
   ]
  },
  {
   "cell_type": "markdown",
   "id": "1557fa4b",
   "metadata": {},
   "source": [
    "Q3. What is a Web API? Differentiate between API and Web API."
   ]
  },
  {
   "cell_type": "markdown",
   "id": "5465acaa",
   "metadata": {},
   "source": [
    "A Web API is a type of API that is specifically designed to be accessed over the internet using the HTTP protocol. It provides a way for different software systems to communicate and exchange data using standard web technologies such as URLs, HTTP methods (GET, POST, PUT, DELETE), and data formats like JSON or XML. Web APIs are commonly used to enable interactions between web servers and client applications, allowing remote access to services, data, or functionalities."
   ]
  },
  {
   "cell_type": "markdown",
   "id": "72c128a6",
   "metadata": {},
   "source": [
    "Q4. Explain REST and SOAP Architecture. Mention shortcomings of SOAP."
   ]
  },
  {
   "cell_type": "markdown",
   "id": "507245ab",
   "metadata": {},
   "source": [
    "REST (Representational State Transfer):\n",
    "\n",
    "REST is an architectural style for designing networked applications, particularly web services, that emphasizes simplicity, scalability, and the use of standard HTTP methods. RESTful APIs (Web APIs that adhere to the principles of REST) are designed to be stateless and resource-oriented. \n",
    "\n",
    "SOAP (Simple Object Access Protocol):\n",
    "\n",
    "SOAP is a protocol for exchanging structured information in the implementation of web services. It uses XML as its message format and typically operates over HTTP, SMTP, or other application layer protocols."
   ]
  },
  {
   "cell_type": "markdown",
   "id": "261e4ae4",
   "metadata": {},
   "source": [
    "Q5. Differentiate between REST and SOAP."
   ]
  },
  {
   "cell_type": "markdown",
   "id": "63cbed00",
   "metadata": {},
   "source": [
    "REST is an architectural style for designing networked appications, particuarly web services, that emphasizes simpicity , scalibilty and use of http \n",
    "\n",
    "where as\n",
    "\n",
    "soap is a protocol for exchanginh structured info in the impementation of of web services."
   ]
  },
  {
   "cell_type": "code",
   "execution_count": null,
   "id": "cdacedd9",
   "metadata": {},
   "outputs": [],
   "source": []
  }
 ],
 "metadata": {
  "kernelspec": {
   "display_name": "Python 3 (ipykernel)",
   "language": "python",
   "name": "python3"
  },
  "language_info": {
   "codemirror_mode": {
    "name": "ipython",
    "version": 3
   },
   "file_extension": ".py",
   "mimetype": "text/x-python",
   "name": "python",
   "nbconvert_exporter": "python",
   "pygments_lexer": "ipython3",
   "version": "3.9.13"
  }
 },
 "nbformat": 4,
 "nbformat_minor": 5
}
