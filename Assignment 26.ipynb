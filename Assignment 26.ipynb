{
 "cells": [
  {
   "cell_type": "markdown",
   "id": "6f0539f1",
   "metadata": {},
   "source": [
    "Q1. What is the Probability density function?"
   ]
  },
  {
   "cell_type": "markdown",
   "id": "082d4a0a",
   "metadata": {},
   "source": [
    "A Probability Density Function (PDF) is a concept in probability theory and statistics that describes the likelihood of a continuous random variable taking on a particular value within a specific range. In other words, it provides the probability distribution of a continuous random variable.\n"
   ]
  },
  {
   "cell_type": "markdown",
   "id": "baaef516",
   "metadata": {},
   "source": [
    "Q2. What are the types of Probability distribution?"
   ]
  },
  {
   "cell_type": "markdown",
   "id": "8b55af5f",
   "metadata": {},
   "source": [
    "Uniform Distribution: In a uniform distribution, all outcomes within a specified range have equal probabilities. For example, rolling a fair six-sided die has a uniform distribution because each face has a 1/6 probability of occurring.\n",
    "\n",
    "Normal Distribution (Gaussian Distribution): The normal distribution is perhaps the most well-known probability distribution. It has a bell-shaped curve and is characterized by its mean (average) and standard deviation. Many natural phenomena follow a normal distribution, such as heights and IQ scores.\n",
    "\n",
    "Binomial Distribution: The binomial distribution models the number of successes (usually denoted as \"k\") in a fixed number of independent Bernoulli trials (experiments with two possible outcomes, typically success and failure). It's often used for scenarios like coin flips or counting the number of successful sales in a given number of attempts.\n",
    "\n",
    "Poisson Distribution: The Poisson distribution describes the number of events that occur within a fixed interval of time or space when these events happen randomly and independently at a constant average rate. It's used for modeling rare events like the number of customer arrivals at a store or the number of accidents at an intersection."
   ]
  },
  {
   "cell_type": "markdown",
   "id": "9780c07f",
   "metadata": {},
   "source": [
    "Q3. Write a Python function to calculate the probability density function of a normal distribution with\n",
    "given mean and standard deviation at a given point."
   ]
  },
  {
   "cell_type": "code",
   "execution_count": 1,
   "id": "874757f2",
   "metadata": {},
   "outputs": [
    {
     "name": "stdout",
     "output_type": "stream",
     "text": [
      "The PDF at x = 1.5 is 0.1295\n"
     ]
    }
   ],
   "source": [
    "import math\n",
    "\n",
    "def normal_pdf(x, mean, std_dev):\n",
    "    pdf = (1 / (std_dev * math.sqrt(2 * math.pi))) * math.exp(-((x - mean) ** 2) / (2 * std_dev ** 2))\n",
    "    return pdf\n",
    "mean = 0.0\n",
    "std_dev = 1.0\n",
    "x_value = 1.5\n",
    "pdf_value = normal_pdf(x_value, mean, std_dev)\n",
    "print(f\"The PDF at x = {x_value} is {pdf_value:.4f}\")\n"
   ]
  },
  {
   "cell_type": "markdown",
   "id": "20906901",
   "metadata": {},
   "source": [
    "Q4. What are the properties of Binomial distribution? Give two examples of events where binomial\n",
    "distribution can be applied."
   ]
  },
  {
   "cell_type": "markdown",
   "id": "073103c6",
   "metadata": {},
   "source": [
    "Fixed Number of Trials (n): The binomial distribution models a fixed number of independent and identical trials or experiments, denoted by \"n.\"\n",
    "\n",
    "Two Possible Outcomes: Each trial has only two possible outcomes: success and failure. These outcomes are often denoted as \"S\" for success and \"F\" for failure.\n",
    "\n",
    "Constant Probability of Success (p): The probability of success (P(S)) remains constant for each trial. In other words, the probability of success, denoted as \"p,\" is the same for all trials.\n",
    "\n",
    "Discreteness: The random variable X, representing the number of successes in the n trials, takes on discrete values. Specifically, X can take values from 0 to n, inclusive.\n",
    "\n",
    "Independence: The trials are assumed to be independent, meaning the outcome of one trial does not affect the outcome of the others.\n",
    "\n",
    "Examples of events where the binomial distribution can be applied:\n",
    "\n",
    "Coin Flips: One of the classic examples is modeling the number of heads obtained when flipping a biased or unbiased coin a fixed number of times. Each flip is a binomial trial with two outcomes (heads or tails), and the probability of getting a head remains constant for each flip.\n",
    "\n",
    "Quality Control: In manufacturing and quality control, the binomial distribution can be used to model the number of defective items in a random sample of a fixed size from a production batch. Each item is inspected independently, and it is either classified as defective or non-defective."
   ]
  },
  {
   "cell_type": "markdown",
   "id": "d815692a",
   "metadata": {},
   "source": [
    "Q5. Generate a random sample of size 1000 from a binomial distribution with probability of success 0.4\n",
    "and plot a histogram of the results using matplotlib."
   ]
  },
  {
   "cell_type": "code",
   "execution_count": 11,
   "id": "6ecc461b",
   "metadata": {},
   "outputs": [
    {
     "data": {
      "text/plain": [
       "Text(0.5, 1.0, 'Binomial Distribution (n=1, p=0.4)')"
      ]
     },
     "execution_count": 11,
     "metadata": {},
     "output_type": "execute_result"
    },
    {
     "data": {
      "image/png": "[encoded data removed]",
      "text/plain": [
       "<Figure size 640x480 with 1 Axes>"
      ]
     },
     "metadata": {},
     "output_type": "display_data"
    }
   ],
   "source": [
    "import matplotlib.pyplot as plt\n",
    "import numpy as np\n",
    "random_samples= np.random.binomial(1,0.4,1000)\n",
    "plt.hist(random_samples ,bins=np.arange(-0.5, 1 + 1.5, 1), rwidth=0.8, density=True, alpha=0.75)\n",
    "plt.xlabel(\"Number of Successes\")\n",
    "plt.ylabel(\"Probability\")\n",
    "plt.title(f\"Binomial Distribution (n={1}, p={0.4})\")\n"
   ]
  },
  {
   "cell_type": "markdown",
   "id": "d6c015fe",
   "metadata": {},
   "source": [
    "Q6. Write a Python function to calculate the cumulative distribution function of a Poisson distribution\n",
    "with given mean at a given point."
   ]
  },
  {
   "cell_type": "code",
   "execution_count": 12,
   "id": "8bd6caa5",
   "metadata": {},
   "outputs": [
    {
     "name": "stdout",
     "output_type": "stream",
     "text": [
      "0.049787068367863944\n"
     ]
    }
   ],
   "source": [
    "def poisson_dis(k,mean):\n",
    "    cdf=0.0\n",
    "    for i in range(k+1):\n",
    "        cdf+=(math.exp(-mean)* mean**i)/math.factorial(i)\n",
    "        return cdf\n",
    "\n",
    "mean = 3.0\n",
    "k_value = 2\n",
    "cdf_value = poisson_dis(k_value, mean)\n",
    "print(cdf_value)\n",
    "        "
   ]
  },
  {
   "cell_type": "markdown",
   "id": "40bc6d2d",
   "metadata": {},
   "source": [
    "Q7. How Binomial distribution different from Poisson distribution?"
   ]
  },
  {
   "cell_type": "markdown",
   "id": "06cd69b7",
   "metadata": {},
   "source": [
    "\n",
    "The Binomial distribution and the Poisson distribution are both probability distributions used in statistics to model different types of random events, but they have distinct characteristics and are suited for different types of scenarios. Here are the key differences between the Binomial and Poisson distributions:\n",
    "\n",
    "Nature of Events:\n",
    "\n",
    "Binomial Distribution: The binomial distribution is used to model a fixed number (n) of independent and identical Bernoulli trials, where each trial has two possible outcomes: success (usually denoted as \"S\") and failure (usually denoted as \"F\").\n",
    "Poisson Distribution: The Poisson distribution is used to model the number of events that occur within a fixed interval of time or space when these events happen randomly and independently at a constant average rate.\n",
    "Number of Trials:\n",
    "\n",
    "Binomial Distribution: The number of trials (n) is fixed and known in advance. Each trial can result in a success or a failure.\n",
    "Poisson Distribution: There is no fixed number of trials. Events can occur at any time within the interval, and the number of events is random.\n",
    "Outcomes:\n",
    "\n",
    "Binomial Distribution: Each trial has only two possible outcomes (success or failure), and these outcomes are discrete.\n",
    "Poisson Distribution: The number of events in a Poisson process is discrete, but the events themselves are often considered to be rare and occur with low probability.\n",
    "Parameters:\n",
    "\n",
    "Binomial Distribution: The parameters of the binomial distribution are the number of trials (n) and the probability of success in each trial (p).\n",
    "Poisson Distribution: The parameter of the Poisson distribution is the average rate of event occurrence (λ).\n",
    "Probability Mass Function:\n",
    "\n",
    "Binomial Distribution: The PMF calculates the probability of getting exactly k successes in n trials. It has a closed-form expression.\n",
    "Poisson Distribution: The PMF calculates the probability of observing k events in the interval. It also has a closed-form expression.\n",
    "Shape of Distribution:\n",
    "\n",
    "Binomial Distribution: The shape of the distribution can be symmetric or skewed, depending on the values of n and p. It tends to become more symmetric as n increases.\n",
    "Poisson Distribution: The Poisson distribution typically has a right-skewed shape, especially when the event rate (λ) is small.\n",
    "Example Applications:\n",
    "\n",
    "Binomial Distribution: It is used for modeling discrete events with a fixed number of trials, such as coin flips, counting the number of successful sales in a fixed number of attempts, or quality control inspections.\n",
    "Poisson Distribution: It is used for modeling rare events with no fixed number of trials, such as the number of customer arrivals at a store in an hour, the number of accidents at an intersection in a day, or the number of emails received in an hour."
   ]
  },
  {
   "cell_type": "markdown",
   "id": "7618de7b",
   "metadata": {},
   "source": [
    "Q8. Generate a random sample of size 1000 from a Poisson distribution with mean 5 and calculate the\n",
    "sample mean and variance."
   ]
  },
  {
   "cell_type": "code",
   "execution_count": 15,
   "id": "6826e809",
   "metadata": {},
   "outputs": [
    {
     "name": "stdout",
     "output_type": "stream",
     "text": [
      "mean =  5.127  variance =  4.990871000000001\n"
     ]
    }
   ],
   "source": [
    "random_samples=np.random.poisson(5,size=1000)\n",
    "mean=np.mean(random_samples)\n",
    "variance=np.var(random_samples)\n",
    "print('mean = ',mean , ' variance = ', variance)"
   ]
  },
  {
   "cell_type": "markdown",
   "id": "ce976fa9",
   "metadata": {},
   "source": [
    "Q9. How mean and variance are related in Binomial distribution and Poisson distribution?"
   ]
  },
  {
   "cell_type": "markdown",
   "id": "b00cc080",
   "metadata": {},
   "source": [
    "Binomial Distribution:\n",
    "\n",
    "In a Binomial distribution with parameters n (the number of trials) and p (the probability of success in each trial), the mean (μ) and variance (σ^2) are related as follows:\n",
    "\n",
    "Mean (μ) = n * p\n",
    "Variance (σ^2) = n * p * (1 - p)\n",
    "In other words, the variance of a Binomial distribution is directly proportional to both the number of trials (n) and the probability of success (p) and inversely proportional to the probability of failure (1 - p).\n",
    "\n",
    "Poisson Distribution:\n",
    "\n",
    "In a Poisson distribution with parameter λ (the average rate of event occurrence), the mean (μ) and variance (σ^2) are related as follows:\n",
    "\n",
    "Mean (μ) = λ\n",
    "Variance (σ^2) = λ\n",
    "In the Poisson distribution, the mean and variance are equal, and they are both equal to λ. This is a unique property of the Poisson distribution, where the mean completely determines the variance."
   ]
  },
  {
   "cell_type": "markdown",
   "id": "29ebbb69",
   "metadata": {},
   "source": [
    "Q10. In normal distribution with respect to mean position, where does the least frequent data appear?"
   ]
  },
  {
   "cell_type": "markdown",
   "id": "0cd0a107",
   "metadata": {},
   "source": [
    "beyond third standard deviation"
   ]
  },
  {
   "cell_type": "code",
   "execution_count": null,
   "id": "ab8a73bf",
   "metadata": {},
   "outputs": [],
   "source": []
  }
 ],
 "metadata": {
  "kernelspec": {
   "display_name": "Python 3 (ipykernel)",
   "language": "python",
   "name": "python3"
  },
  "language_info": {
   "codemirror_mode": {
    "name": "ipython",
    "version": 3
   },
   "file_extension": ".py",
   "mimetype": "text/x-python",
   "name": "python",
   "nbconvert_exporter": "python",
   "pygments_lexer": "ipython3",
   "version": "3.9.13"
  }
 },
 "nbformat": 4,
 "nbformat_minor": 5
}
