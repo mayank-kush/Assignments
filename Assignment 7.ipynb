{
 "cells": [
  {
   "cell_type": "markdown",
   "id": "f247dfd7",
   "metadata": {},
   "source": [
    "Q1. What is Abstraction in OOps? Explain with an example."
   ]
  },
  {
   "cell_type": "markdown",
   "id": "90a0b489",
   "metadata": {},
   "source": [
    "Ans: Abstraction is one of the four fundamental principles of OOP. It refers to the process of hiding the implementation details of an object and exposing only the essential features or functionalities to the outside world. In other words, abstraction allows you to focus on what an object does rather than how it does it."
   ]
  },
  {
   "cell_type": "code",
   "execution_count": 1,
   "id": "9d4557e8",
   "metadata": {},
   "outputs": [
    {
     "name": "stdout",
     "output_type": "stream",
     "text": [
      "Circle Area: 78.5\n",
      "Circle Perimeter: 31.400000000000002\n",
      "Rectangle Area: 24\n",
      "Rectangle Perimeter: 20\n"
     ]
    }
   ],
   "source": [
    "from abc import ABC, abstractmethod\n",
    "class Shape(ABC):\n",
    "\n",
    "    @abstractmethod\n",
    "    def area(self):\n",
    "        pass\n",
    "\n",
    "    @abstractmethod\n",
    "    def perimeter(self):\n",
    "        pass\n",
    "    \n",
    "class Circle(Shape):\n",
    "\n",
    "    def __init__(self, radius):\n",
    "        self.radius = radius\n",
    "\n",
    "    def area(self):\n",
    "        return 3.14 * self.radius ** 2\n",
    "\n",
    "    def perimeter(self):\n",
    "        return 2 * 3.14 * self.radius\n",
    "\n",
    "class Rectangle(Shape):\n",
    "\n",
    "    def __init__(self, length, width):\n",
    "        self.length = length\n",
    "        self.width = width\n",
    "\n",
    "    def area(self):\n",
    "        return self.length * self.width\n",
    "\n",
    "    def perimeter(self):\n",
    "        return 2 * (self.length + self.width)\n",
    "\n",
    "circle = Circle(5)\n",
    "rectangle = Rectangle(4, 6)\n",
    "\n",
    "print(\"Circle Area:\", circle.area())\n",
    "print(\"Circle Perimeter:\", circle.perimeter())\n",
    "\n",
    "print(\"Rectangle Area:\", rectangle.area())\n",
    "print(\"Rectangle Perimeter:\", rectangle.perimeter())\n"
   ]
  },
  {
   "cell_type": "markdown",
   "id": "f24eb9d4",
   "metadata": {},
   "source": [
    "Q2. Differentiate between Abstraction and Encapsulation. Explain with an example."
   ]
  },
  {
   "cell_type": "markdown",
   "id": "5edb135a",
   "metadata": {},
   "source": [
    "Ans : Abstraction is the hiding the implementation and execution details and only showing the essential features to the user.\n",
    " Where As\n",
    " Encapsulation is the wrapping up of data in smaller segments called modules to make our code more readable and easy to handle."
   ]
  },
  {
   "cell_type": "markdown",
   "id": "c362e56a",
   "metadata": {},
   "source": [
    "Q3. What is abc module in python? Why is it used?"
   ]
  },
  {
   "cell_type": "markdown",
   "id": "afe045e1",
   "metadata": {},
   "source": [
    "Ans : the abc module is the abstraction class module,is it used to create abstract classes and interfaces .  An abstract class is a class that cannot be instantiated and may contain one or more abstract methods "
   ]
  },
  {
   "cell_type": "markdown",
   "id": "aa4c9bc7",
   "metadata": {},
   "source": [
    "Q4. How can we achieve data abstraction?"
   ]
  },
  {
   "cell_type": "markdown",
   "id": "0f708b67",
   "metadata": {},
   "source": [
    "Data abstraction is a fundamental concept in computer science and programming that allows us to simplify complex systems by focusing on relevant details while hiding unnecessary implementation details. It involves creating abstract data typesthat encapsulate data and operations, providing a clear interface for interacting with the data without revealing its underlying representation."
   ]
  },
  {
   "cell_type": "markdown",
   "id": "4379fa13",
   "metadata": {},
   "source": [
    "It can be achived by the following methods: Encapsulation,Public and Private Members,Abstraction through Interfaces,Abstract Classes,Inheritance."
   ]
  },
  {
   "cell_type": "markdown",
   "id": "e92097ba",
   "metadata": {},
   "source": [
    "Q5. Can we create an instance of an abstract class? Explain your answer."
   ]
  },
  {
   "cell_type": "markdown",
   "id": "ae66b31b",
   "metadata": {},
   "source": [
    "Ans: No, we cannot create an instance of an abstract class. An abstract class is a class that is declared with the intention of being used as a base or superclass for other classes, but it cannot be instantiated directly on its own. The main purpose of an abstract class is to provide a common interface and shared functionality for its subclasses."
   ]
  },
  {
   "cell_type": "code",
   "execution_count": null,
   "id": "c635b2b0",
   "metadata": {},
   "outputs": [],
   "source": []
  }
 ],
 "metadata": {
  "kernelspec": {
   "display_name": "Python 3 (ipykernel)",
   "language": "python",
   "name": "python3"
  },
  "language_info": {
   "codemirror_mode": {
    "name": "ipython",
    "version": 3
   },
   "file_extension": ".py",
   "mimetype": "text/x-python",
   "name": "python",
   "nbconvert_exporter": "python",
   "pygments_lexer": "ipython3",
   "version": "3.9.13"
  }
 },
 "nbformat": 4,
 "nbformat_minor": 5
}
